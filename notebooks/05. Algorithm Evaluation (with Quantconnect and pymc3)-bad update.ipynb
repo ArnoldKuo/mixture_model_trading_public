{
 "cells": [
  {
   "cell_type": "markdown",
   "metadata": {
    "toc": true
   },
   "source": [
    "<h1>Table of Contents<span class=\"tocSkip\"></span></h1>\n",
    "<div class=\"toc\"><ul class=\"toc-item\"><li><span><a href=\"#Chapter-Goals\" data-toc-modified-id=\"Chapter-Goals-1\"><span class=\"toc-item-num\">1&nbsp;&nbsp;</span>Chapter Goals</a></span></li><li><span><a href=\"#Chapter-Outline\" data-toc-modified-id=\"Chapter-Outline-2\"><span class=\"toc-item-num\">2&nbsp;&nbsp;</span>Chapter Outline</a></span></li><li><span><a href=\"#Algo-Evaluation-Motivation\" data-toc-modified-id=\"Algo-Evaluation-Motivation-3\"><span class=\"toc-item-num\">3&nbsp;&nbsp;</span>Algo Evaluation Motivation</a></span><ul class=\"toc-item\"><li><ul class=\"toc-item\"><li><span><a href=\"#Algorithm-Uncertainty-(AU)\" data-toc-modified-id=\"Algorithm-Uncertainty-(AU)-3.0.1\"><span class=\"toc-item-num\">3.0.1&nbsp;&nbsp;</span>Algorithm Uncertainty (AU)</a></span></li><li><span><a href=\"#Model-Uncertainty-(MU)\" data-toc-modified-id=\"Model-Uncertainty-(MU)-3.0.2\"><span class=\"toc-item-num\">3.0.2&nbsp;&nbsp;</span>Model Uncertainty (MU)</a></span></li></ul></li></ul></li><li><span><a href=\"#1.-Read-in-backtest-portfolio-equity-data.\" data-toc-modified-id=\"1.-Read-in-backtest-portfolio-equity-data.-4\"><span class=\"toc-item-num\">4&nbsp;&nbsp;</span>1. Read in backtest <em>portfolio equity</em> data.</a></span></li><li><span><a href=\"#2.-Choose-the-Best-Algorithm-Among-4-Variants\" data-toc-modified-id=\"2.-Choose-the-Best-Algorithm-Among-4-Variants-5\"><span class=\"toc-item-num\">5&nbsp;&nbsp;</span>2. Choose the Best Algorithm Among 4 Variants</a></span></li><li><span><a href=\"#3.-Choose-Best-Bayesian-Model-of-Algorithm-Returns\" data-toc-modified-id=\"3.-Choose-Best-Bayesian-Model-of-Algorithm-Returns-6\"><span class=\"toc-item-num\">6&nbsp;&nbsp;</span>3. Choose Best Bayesian Model of Algorithm Returns</a></span><ul class=\"toc-item\"><li><span><a href=\"#Model-Sampling-and-Comparison\" data-toc-modified-id=\"Model-Sampling-and-Comparison-6.1\"><span class=\"toc-item-num\">6.1&nbsp;&nbsp;</span>Model Sampling and Comparison</a></span></li></ul></li><li><span><a href=\"#4.-Comparing-Bayesian-Cones-for-all-Algos-and-all-Return-Models\" data-toc-modified-id=\"4.-Comparing-Bayesian-Cones-for-all-Algos-and-all-Return-Models-7\"><span class=\"toc-item-num\">7&nbsp;&nbsp;</span>4. Comparing Bayesian Cones for all Algos and all Return Models</a></span><ul class=\"toc-item\"><li><ul class=\"toc-item\"><li><span><a href=\"#Some-observations:\" data-toc-modified-id=\"Some-observations:-7.0.1\"><span class=\"toc-item-num\">7.0.1&nbsp;&nbsp;</span>Some observations:</a></span></li></ul></li></ul></li><li><span><a href=\"#5.-Compare-Best-Algo's-Predicted-Portfolio-Ending-Values\" data-toc-modified-id=\"5.-Compare-Best-Algo's-Predicted-Portfolio-Ending-Values-8\"><span class=\"toc-item-num\">8&nbsp;&nbsp;</span>5. Compare Best Algo's Predicted Portfolio Ending Values</a></span></li><li><span><a href=\"#6.-Compare-Best-Algo-Predicted-CAGR-Distributions\" data-toc-modified-id=\"6.-Compare-Best-Algo-Predicted-CAGR-Distributions-9\"><span class=\"toc-item-num\">9&nbsp;&nbsp;</span>6. Compare Best Algo Predicted CAGR Distributions</a></span></li><li><span><a href=\"#7.-Model-Averaging\" data-toc-modified-id=\"7.-Model-Averaging-10\"><span class=\"toc-item-num\">10&nbsp;&nbsp;</span>7. Model Averaging</a></span></li><li><span><a href=\"#8.-Conclusions\" data-toc-modified-id=\"8.-Conclusions-11\"><span class=\"toc-item-num\">11&nbsp;&nbsp;</span>8. Conclusions</a></span></li></ul></div>"
   ]
  },
  {
   "cell_type": "markdown",
   "metadata": {},
   "source": [
    "## Chapter Goals\n",
    "\n",
    "* Demonstrate how to extract algorithm portfolio equity from [Quantconnect](https://www.quantconnect.com/) backtest\n",
    "* Demonstrate how to predict future return paths using [bayesian cones](https://blog.quantopian.com/bayesian-cone/).\n",
    "* Demonstrate how to estimate distribution of algorithm CAGRs.\n",
    "* Demonstrate how to use model averaging to aid predictions."
   ]
  },
  {
   "cell_type": "markdown",
   "metadata": {},
   "source": [
    "## Chapter Outline\n",
    "\n",
    "1. Read in Algorithm Portfolio Equity\n",
    "2. Choose the Best Algorithm Among 4 Variants\n",
    "3. Choose Best Bayesian Model of Algorithm Returns\n",
    "4. Compare Bayesian Cones for all Algos and all Return Models\n",
    "5. Compare Best Algo Predicted Portfolio Ending Values\n",
    "6. Compare Best Algo Predicted CAGR Distributions\n",
    "7. Model Averaging\n",
    "8. Conclusion"
   ]
  },
  {
   "cell_type": "markdown",
   "metadata": {},
   "source": [
    "## Algo Evaluation Motivation\n",
    "\n",
    "When evaluating our trading systems there are two major areas of uncertainty we have to address: `Algorithm Uncertainty`, `Model Uncertainty`. \n",
    "\n",
    "#### Algorithm Uncertainty (AU)\n",
    "* trade sequencing\n",
    "* slippage/price impact\n",
    "* network errors\n",
    "* software errors\n",
    "* hardware errors\n",
    "\n",
    "#### Model Uncertainty (MU)\n",
    "* model is misspecified\n",
    "* incorrect parameters\n",
    "* changing market environment/nonstationarity\n",
    "* missing variables\n",
    "* etc.\n",
    "\n",
    "What you will notice is that the `AU` examples given involve issues that can occur once our algorithm is live. What that also means is that some combination of those issues _did not happen_ in the past but some combination of them _could happen_ in the future. How can we estimate the impact of random exogenous shocks to our trading strategy's performance?\n",
    "\n",
    "In this chapter we will employ a Bayesian methodology which will allow us to reasonably estimate the variation in strategy performance across many different return paths in an attempt to account for the exogenous shocks. The flip side to this approach is that we will have to use a model and all of the requisite assumptions. \n",
    "\n",
    "That introduces the second area of importance `MU`. To incorporate our uncertainty about which model is \"best\" we will create `3` different models and compare them. Then we will combine their predictions before we make our final inference and prediction."
   ]
  },
  {
   "cell_type": "markdown",
   "metadata": {},
   "source": [
    "*NOTE: in this chapter I have abstracted away some of the boilerplate code used to create and format data in the imported script `ch5_utils.py`. Some other functions and processes I have chosen to leave in the notebook for easier reference due to its importance in the analysis.*"
   ]
  },
  {
   "cell_type": "code",
   "execution_count": 10,
   "metadata": {
    "ExecuteTime": {
     "end_time": "2018-06-03T06:23:02.768041Z",
     "start_time": "2018-06-03T06:23:02.665271Z"
    },
    "scrolled": true
   },
   "outputs": [
    {
     "name": "stdout",
     "output_type": "stream",
     "text": [
      "The watermark extension is already loaded. To reload it, use:\n",
      "  %reload_ext watermark\n",
      "2018-06-03T00:23:02-06:00\n",
      "\n",
      "CPython 3.6.4\n",
      "IPython 6.2.1\n",
      "\n",
      "compiler   : GCC 4.8.2 20140120 (Red Hat 4.8.2-15)\n",
      "system     : Linux\n",
      "release    : 4.13.0-43-generic\n",
      "machine    : x86_64\n",
      "processor  : x86_64\n",
      "CPU cores  : 12\n",
      "interpreter: 64bit\n",
      "\n",
      "pandas 0.23.0\n",
      "pandas_datareader 0.6.0+21.gda18fbd\n",
      "numpy 1.14.3\n",
      "pymc3 3.4.1\n",
      "theano 1.0.1\n",
      "sklearn 0.19.1\n",
      "statsmodels 0.9.0\n",
      "scipy 1.1.0\n",
      "ffn (0, 3, 3)\n",
      "matplotlib 2.1.2\n",
      "seaborn 0.8.1\n",
      "pdvega 0.1\n",
      "pyarrow 0.9.0\n"
     ]
    }
   ],
   "source": [
    "%load_ext watermark\n",
    "%watermark\n",
    "\n",
    "# import standard libs\n",
    "from IPython.display import display\n",
    "from IPython.core.debugger import set_trace\n",
    "from pathlib import PurePath, Path\n",
    "import sys\n",
    "import time\n",
    "from collections import OrderedDict as od\n",
    "import re\n",
    "import os\n",
    "import json\n",
    "os.environ['THEANO_FLAGS'] = 'device=cpu,floatX=float32'\n",
    "\n",
    "# get project dir\n",
    "pp = PurePath(Path.cwd()).parts[:-1]\n",
    "pdir = PurePath(*pp)\n",
    "script_dir = pdir / 'scripts' \n",
    "viz_dir = pdir / 'visuals' / '05_Algorithm_Evaluation'\n",
    "log_dir = pdir / 'quantconnect_logs'\n",
    "sys.path.append(script_dir.as_posix())\n",
    "\n",
    "# import python scientific stack\n",
    "import pandas as pd\n",
    "import pandas_datareader.data as web\n",
    "pd.set_option('display.max_rows', 50)\n",
    "import numpy as np\n",
    "import sklearn.mixture as mix\n",
    "import scipy.stats as stats\n",
    "import math\n",
    "import pymc3 as pm\n",
    "from theano import shared, theano as tt\n",
    "import ffn\n",
    "\n",
    "# import visual tools\n",
    "import matplotlib as mpl\n",
    "import matplotlib.pyplot as plt\n",
    "%matplotlib inline\n",
    "import seaborn as sns\n",
    "import pdvega\n",
    "\n",
    "plt.style.use('seaborn-talk')\n",
    "plt.style.use('bmh')\n",
    "\n",
    "# import util libs\n",
    "import pyarrow as pa\n",
    "import pyarrow.parquet as pq\n",
    "from tqdm import tqdm\n",
    "import warnings\n",
    "warnings.filterwarnings(\"ignore\")\n",
    "\n",
    "from utils import cprint\n",
    "from ch5_utils import pymc3_helper \n",
    "pmh = pymc3_helper()\n",
    "\n",
    "RANDOM_STATE = 777\n",
    "\n",
    "print()# \n",
    "%watermark -p pandas,pandas_datareader,numpy,pymc3,theano,sklearn,statsmodels,scipy,ffn,matplotlib,seaborn,pdvega,pyarrow"
   ]
  },
  {
   "cell_type": "markdown",
   "metadata": {},
   "source": [
    "## 1. Read in backtest *portfolio equity* data.\n",
    "\n",
    "To do this I have defined some useful convenience functions to clean up the raw dataset.\n",
    "\n",
    "    1. Read in raw json \n",
    "    2. Extract portfolio equity from json, rename columns, and parse time column\n",
    "    3. Rename df columns\n",
    "    4. Read in the properly formatted df"
   ]
  },
  {
   "cell_type": "code",
   "execution_count": 23,
   "metadata": {
    "ExecuteTime": {
     "end_time": "2018-06-03T06:26:29.494125Z",
     "start_time": "2018-06-03T06:26:29.461202Z"
    }
   },
   "outputs": [],
   "source": [
    "def read_bt_json(fp):\n",
    "    \"\"\"fn: read Quantconnect backtest json\"\"\"\n",
    "    with open(fp, encoding='utf-8') as f_in:\n",
    "        return(json.load(f_in))\n",
    "    \n",
    "    \n",
    "def extract_portfolio_equity(jdata):\n",
    "    \"\"\"fn: extract port equity timeseries from Quantconnect json\"\"\"\n",
    "    d = jdata['Charts']['Strategy Equity']['Series']['Equity']['Values']\n",
    "    equity = (pd.DataFrame(d)\n",
    "              .rename(columns=dict(x='time', y='equity'))\n",
    "              .assign(time=lambda df: pd.to_datetime(df.time, utc=True, unit='s'))\n",
    "              .set_index('time'))\n",
    "    return equity\n",
    "\n",
    "def _get_column_name(text):\n",
    "    \"\"\"fn: to get column name as first text group\"\"\"\n",
    "    n = 4 # hardcoded based on fn structure\n",
    "    groups = text.split('_')\n",
    "    return '_'.join(groups[:n])\n",
    "\n",
    "def read_port_equity(fn):\n",
    "    fp = PurePath(log_dir / fn)#.as_posix()\n",
    "    jdata = read_bt_json(fp) \n",
    "    \n",
    "    # get column name\n",
    "    col = _get_column_name(fn)\n",
    "    # extract equity data\n",
    "    equity = (extract_portfolio_equity(jdata)\n",
    "              .rename(columns=dict(equity=col)))\n",
    "    return equity"
   ]
  },
  {
   "cell_type": "code",
   "execution_count": 24,
   "metadata": {
    "ExecuteTime": {
     "end_time": "2018-06-03T06:26:30.237249Z",
     "start_time": "2018-06-03T06:26:29.913152Z"
    }
   },
   "outputs": [
    {
     "name": "stdout",
     "output_type": "stream",
     "text": [
      "-------------------------------------------------------------------------------\n",
      "dataframe information\n",
      "-------------------------------------------------------------------------------\n",
      "                           normal_2_thres_70\n",
      "time                                        \n",
      "2017-12-27 21:00:00+00:00        121831.3435\n",
      "2017-12-28 14:31:00+00:00        121967.7462\n",
      "2017-12-28 21:00:00+00:00        121905.5919\n",
      "2017-12-29 14:31:00+00:00        122016.2468\n",
      "2017-12-29 21:00:00+00:00        121930.2858\n",
      "--------------------------------------------------\n",
      "<class 'pandas.core.frame.DataFrame'>\n",
      "DatetimeIndex: 4701 entries, 2008-09-01 04:00:00+00:00 to 2017-12-29 21:00:00+00:00\n",
      "Data columns (total 1 columns):\n",
      "normal_2_thres_70    4701 non-null float64\n",
      "dtypes: float64(1)\n",
      "memory usage: 73.5 KB\n",
      "None\n",
      "-------------------------------------------------------------------------------\n",
      "\n"
     ]
    }
   ],
   "source": [
    "#read_bt_json('/media/bcr/HDD/Code_Backups_Sync/mixture_model_trading/quantconnect_logs/normal_2_thres_70_cherry_picked.json')\n",
    "norm_2_cp_equity = read_port_equity('normal_2_thres_70_cherry_picked.json')#  'normal_1_results.json')\n",
    "norm_2_60_equity = read_port_equity('normal_2_thres_60.json')#_results.json')\n",
    "norm_2_70_equity = read_port_equity('normal_2_thres_70.json')#_results.json')\n",
    "norm_2_80_equity = read_port_equity('normal_2_thres_80.json')#_results.json')\n",
    "cprint(norm_2_cp_equity)"
   ]
  },
  {
   "cell_type": "markdown",
   "metadata": {},
   "source": [
    "Combine strategy dataframes into one df for easier analysis."
   ]
  },
  {
   "cell_type": "code",
   "execution_count": 25,
   "metadata": {
    "ExecuteTime": {
     "end_time": "2018-06-03T06:26:36.350028Z",
     "start_time": "2018-06-03T06:26:36.322621Z"
    }
   },
   "outputs": [
    {
     "name": "stdout",
     "output_type": "stream",
     "text": [
      "-------------------------------------------------------------------------------\n",
      "dataframe information\n",
      "-------------------------------------------------------------------------------\n",
      "                           normal_2_thres_70  normal_2_thres_60.json  \\\n",
      "time                                                                   \n",
      "2017-12-22 00:00:00+00:00       121726.67730            110806.73870   \n",
      "2017-12-26 00:00:00+00:00       121759.49840            110838.83710   \n",
      "2017-12-27 00:00:00+00:00       121831.04605            110896.00425   \n",
      "2017-12-28 00:00:00+00:00       121936.66905            110980.45065   \n",
      "2017-12-29 00:00:00+00:00       121973.26630            111009.44045   \n",
      "\n",
      "                           normal_2_thres_70.json  normal_2_thres_80.json  \n",
      "time                                                                       \n",
      "2017-12-22 00:00:00+00:00            120292.77430            109102.69330  \n",
      "2017-12-26 00:00:00+00:00            120321.02100            109108.89120  \n",
      "2017-12-27 00:00:00+00:00            120382.92595            109150.72755  \n",
      "2017-12-28 00:00:00+00:00            120474.46290            109199.52000  \n",
      "2017-12-29 00:00:00+00:00            120505.99290            109219.28335  \n",
      "--------------------------------------------------\n",
      "<class 'pandas.core.frame.DataFrame'>\n",
      "DatetimeIndex: 2351 entries, 2008-09-01 to 2017-12-29\n",
      "Data columns (total 4 columns):\n",
      "normal_2_thres_70         2351 non-null float64\n",
      "normal_2_thres_60.json    2351 non-null float64\n",
      "normal_2_thres_70.json    2351 non-null float64\n",
      "normal_2_thres_80.json    2351 non-null float64\n",
      "dtypes: float64(4)\n",
      "memory usage: 91.8 KB\n",
      "None\n",
      "-------------------------------------------------------------------------------\n",
      "\n"
     ]
    }
   ],
   "source": [
    "list_of_dfs = [norm_2_cp_equity, norm_2_60_equity, norm_2_70_equity, norm_2_80_equity]\n",
    "dfs = (pd.concat(list_of_dfs, axis=1)\n",
    "       .resample('D') \n",
    "       .mean() # resample to average daily value\n",
    "       .dropna(how='all'))#.rename(columns={'normal_2_thres':'normal_2_thres_cp'}) \n",
    "cprint(dfs)"
   ]
  },
  {
   "cell_type": "code",
   "execution_count": 26,
   "metadata": {
    "ExecuteTime": {
     "end_time": "2018-06-03T06:26:39.546792Z",
     "start_time": "2018-06-03T06:26:39.266766Z"
    }
   },
   "outputs": [
    {
     "name": "stdout",
     "output_type": "stream",
     "text": [
      "-------------------------------------------------------------------------------\n",
      "dataframe information\n",
      "-------------------------------------------------------------------------------\n",
      "                           normal_2_thres_70  normal_2_thres_60.json  \\\n",
      "time                                                                   \n",
      "2017-12-22 00:00:00+00:00           0.000000                0.001148   \n",
      "2017-12-26 00:00:00+00:00           0.000270                0.000290   \n",
      "2017-12-27 00:00:00+00:00           0.000587                0.000516   \n",
      "2017-12-28 00:00:00+00:00           0.000867                0.000761   \n",
      "2017-12-29 00:00:00+00:00           0.000300                0.000261   \n",
      "\n",
      "                           normal_2_thres_70.json  normal_2_thres_80.json  \n",
      "time                                                                       \n",
      "2017-12-22 00:00:00+00:00                0.000000                0.000262  \n",
      "2017-12-26 00:00:00+00:00                0.000235                0.000057  \n",
      "2017-12-27 00:00:00+00:00                0.000514                0.000383  \n",
      "2017-12-28 00:00:00+00:00                0.000760                0.000447  \n",
      "2017-12-29 00:00:00+00:00                0.000262                0.000181  \n",
      "--------------------------------------------------\n",
      "<class 'pandas.core.frame.DataFrame'>\n",
      "DatetimeIndex: 2350 entries, 2008-09-02 to 2017-12-29\n",
      "Data columns (total 4 columns):\n",
      "normal_2_thres_70         2350 non-null float64\n",
      "normal_2_thres_60.json    2350 non-null float64\n",
      "normal_2_thres_70.json    2350 non-null float64\n",
      "normal_2_thres_80.json    2350 non-null float64\n",
      "dtypes: float64(4)\n",
      "memory usage: 91.8 KB\n",
      "None\n",
      "-------------------------------------------------------------------------------\n",
      "\n"
     ]
    }
   ],
   "source": [
    "# portfolio equity returns \n",
    "R = ffn.to_log_returns(dfs).dropna(how='all')\n",
    "cprint(R)"
   ]
  },
  {
   "cell_type": "markdown",
   "metadata": {},
   "source": [
    "## 2. Choose the Best Algorithm Among 4 Variants"
   ]
  },
  {
   "cell_type": "markdown",
   "metadata": {},
   "source": [
    "Now we can use a useful package called [ffn](https://github.com/pmorissette/ffn) to compute an assortment of performance statistics we can use to compare the algorithm portfolios. We're going to choose the best algorithm using the following metrics:\n",
    "\n",
    "* Total Return\n",
    "* Daily Sharpe\n",
    "* CAGR\n",
    "* Calmar Ratio"
   ]
  },
  {
   "cell_type": "code",
   "execution_count": 27,
   "metadata": {
    "ExecuteTime": {
     "end_time": "2018-06-03T06:26:47.906369Z",
     "start_time": "2018-06-03T06:26:47.668290Z"
    }
   },
   "outputs": [],
   "source": [
    "perf = ffn.calc_stats(dfs)"
   ]
  },
  {
   "cell_type": "markdown",
   "metadata": {},
   "source": [
    "We can view the portfolio cumulative returns indexed to 100 easily"
   ]
  },
  {
   "cell_type": "code",
   "execution_count": 28,
   "metadata": {
    "ExecuteTime": {
     "end_time": "2018-06-03T06:26:49.289196Z",
     "start_time": "2018-06-03T06:26:48.778231Z"
    }
   },
   "outputs": [
    {
     "data": {
      "image/png": "[encoded data removed]",
      "text/plain": [
       "<matplotlib.figure.Figure at 0x7f5e16128cf8>"
      ]
     },
     "metadata": {},
     "output_type": "display_data"
    }
   ],
   "source": [
    "perf.plot()"
   ]
  },
  {
   "cell_type": "markdown",
   "metadata": {},
   "source": [
    "Next we display the performance statistics."
   ]
  },
  {
   "cell_type": "code",
   "execution_count": 29,
   "metadata": {
    "ExecuteTime": {
     "end_time": "2018-06-03T06:26:51.905647Z",
     "start_time": "2018-06-03T06:26:51.887933Z"
    },
    "scrolled": false
   },
   "outputs": [
    {
     "name": "stdout",
     "output_type": "stream",
     "text": [
      "Stat                 normal_2_thres_70    normal_2_thres_60.json    normal_2_thres_70.json    normal_2_thres_80.json\n",
      "-------------------  -------------------  ------------------------  ------------------------  ------------------------\n",
      "Start                2008-09-01           2008-09-01                2008-09-01                2008-09-01\n",
      "End                  2017-12-29           2017-12-29                2017-12-29                2017-12-29\n",
      "Risk-free rate       0.00%                0.00%                     0.00%                     0.00%\n",
      "\n",
      "Total Return         21.97%               11.01%                    20.51%                    9.22%\n",
      "Daily Sharpe         0.52                 0.24                      0.43                      0.24\n",
      "Daily Sortino        0.58                 0.29                      0.48                      0.22\n",
      "CAGR                 2.15%                1.13%                     2.02%                     0.95%\n",
      "Max Drawdown         -9.67%               -15.83%                   -13.01%                   -11.08%\n",
      "Calmar Ratio         0.22                 0.07                      0.16                      0.09\n",
      "\n",
      "MTD                  0.54%                0.23%                     0.12%                     0.30%\n",
      "3m                   1.43%                0.38%                     0.97%                     1.48%\n",
      "6m                   2.05%                1.24%                     0.92%                     1.48%\n",
      "YTD                  4.54%                6.14%                     4.11%                     1.72%\n",
      "1Y                   4.65%                6.16%                     4.21%                     1.72%\n",
      "3Y (ann.)            2.91%                3.34%                     3.87%                     0.86%\n",
      "5Y (ann.)            1.73%                1.21%                     2.12%                     -0.16%\n",
      "10Y (ann.)           2.15%                1.13%                     2.02%                     0.95%\n",
      "Since Incep. (ann.)  2.15%                1.13%                     2.02%                     0.95%\n",
      "\n",
      "Daily Sharpe         0.52                 0.24                      0.43                      0.24\n",
      "Daily Sortino        0.58                 0.29                      0.48                      0.22\n",
      "Daily Mean (ann.)    2.22%                1.25%                     2.12%                     1.04%\n",
      "Daily Vol (ann.)     4.28%                5.16%                     4.99%                     4.36%\n",
      "Daily Skew           -0.66                -0.27                     -0.63                     -0.97\n",
      "Daily Kurt           14.26                8.66                      12.41                     20.09\n",
      "Best Day             1.74%                2.31%                     2.36%                     2.36%\n",
      "Worst Day            -2.72%               -2.21%                    -2.65%                    -2.65%\n",
      "\n",
      "Monthly Sharpe       0.48                 0.21                      0.38                      0.24\n",
      "Monthly Sortino      0.65                 0.32                      0.62                      0.30\n",
      "Monthly Mean (ann.)  2.07%                1.22%                     2.09%                     1.05%\n",
      "Monthly Vol (ann.)   4.28%                5.93%                     5.52%                     4.34%\n",
      "Monthly Skew         -0.17                0.21                      0.40                      -0.19\n",
      "Monthly Kurt         2.43                 1.03                      1.74                      2.81\n",
      "Best Month           4.04%                4.93%                     5.62%                     3.88%\n",
      "Worst Month          -4.75%               -5.23%                    -4.85%                    -4.77%\n",
      "\n",
      "Yearly Sharpe        0.75                 0.33                      0.52                      0.48\n",
      "Yearly Sortino       11.76                1.34                      3.93                      1.05\n",
      "Yearly Mean          2.39%                1.93%                     2.56%                     1.43%\n",
      "Yearly Vol           3.16%                5.79%                     4.94%                     2.96%\n",
      "Yearly Skew          1.72                 0.98                      1.37                      0.28\n",
      "Yearly Kurt          3.31                 0.79                      1.95                      -0.29\n",
      "Best Year            9.65%                13.60%                    13.21%                    6.53%\n",
      "Worst Year           -0.55%               -4.42%                    -2.79%                    -3.01%\n",
      "\n",
      "Avg. Drawdown        -0.93%               -2.45%                    -1.56%                    -2.01%\n",
      "Avg. Drawdown Days   56.93                175.05                    102.22                    156.38\n",
      "Avg. Up Month        0.88%                1.29%                     1.25%                     1.02%\n",
      "Avg. Down Month      -0.79%               -1.15%                    -1.04%                    -0.62%\n",
      "Win Year %           77.78%               66.67%                    77.78%                    55.56%\n",
      "Win 12m %            73.27%               58.42%                    67.33%                    53.47%\n"
     ]
    }
   ],
   "source": [
    "perf.display()"
   ]
  },
  {
   "cell_type": "markdown",
   "metadata": {},
   "source": [
    "Among the four algorithms, according to the four metrics listed above the clear \"winner\" is the `normal_4` algo variant. This refers to the algorithm version that uses `4` mixture components and predicts the return distribution by sampling from the `normal` distribution."
   ]
  },
  {
   "cell_type": "markdown",
   "metadata": {},
   "source": [
    "## 3. Choose Best Bayesian Model of Algorithm Returns\n"
   ]
  },
  {
   "cell_type": "markdown",
   "metadata": {},
   "source": [
    "In this section we address the dual issues of **algorithm uncertainty** and **model uncertainty**.\n"
   ]
  },
  {
   "cell_type": "markdown",
   "metadata": {},
   "source": [
    "### Model Sampling and Comparison\n",
    "\n",
    "In this next section we model portfolio equity returns using 3 different distributions: `normal`, `laplace`, `student T`.\n",
    "Then we compare the models.\n",
    "\n",
    "\n",
    "$$ Y = \\mu + \\sigma $$\n",
    "\n",
    "Here's the `Normal` specification:\n",
    "\n",
    "$\\mu \\sim N(0,1)\\\\ \\sigma \\sim HalfCauchy(1)\\\\ Y \\sim N(\\mu, \\sigma)$\n",
    "\n",
    "Here's the `Laplace` specification:\n",
    "\n",
    "$\\mu \\sim N(0,1)\\\\ \\sigma \\sim HalfCauchy(1)\\\\ Y \\sim Laplace(\\mu, \\sigma)$\n",
    "\n",
    "Here's the `Student T` specification:\n",
    "\n",
    "$\\nu \\sim exp(.1)\\\\ \\mu \\sim N(0,1)\\\\ \\sigma \\sim HalfCauchy(1)\\\\ Y \\sim StudentT(\\nu+2, \\mu, \\sigma)$"
   ]
  },
  {
   "cell_type": "code",
   "execution_count": 30,
   "metadata": {
    "ExecuteTime": {
     "end_time": "2018-06-03T06:26:58.137845Z",
     "start_time": "2018-06-03T06:26:57.929258Z"
    }
   },
   "outputs": [
    {
     "name": "stdout",
     "output_type": "stream",
     "text": [
      "CPU times: user 4 µs, sys: 1e+03 ns, total: 5 µs\n",
      "Wall time: 8.34 µs\n"
     ]
    }
   ],
   "source": [
    "%%time \n",
    "## Code adapted from: https://github.com/quantopian/pyfolio/blob/master/pyfolio/bayesian.py ##\n",
    "\n",
    "def normal_model(R, samples):\n",
    "    \"\"\"fn: sample normal model of strategy returns\n",
    "    \n",
    "    # args \n",
    "        R: pd.Series() simple returns ts\n",
    "        sample_wkds: dict containing sampler kwds\n",
    "    # returns\n",
    "        model, trace\n",
    "    \"\"\"\n",
    "    with pm.Model() as model:\n",
    "        mu = pm.Normal('mean rets', mu=0, sd=.01, testval=R.mean())\n",
    "        sigma = pm.HalfCauchy('vol', beta=1, testval=R.std())\n",
    "        returns = pm.Normal('returns', mu=mu, sd=sigma, observed=R)\n",
    "\n",
    "        pm.Deterministic(\n",
    "            'annual mean returns',\n",
    "            returns.distribution.mean * 252)\n",
    "\n",
    "        pm.Deterministic(\n",
    "            'annual volatility',\n",
    "            returns.distribution.variance**.5 *\n",
    "            np.sqrt(252))\n",
    "\n",
    "        pm.Deterministic(\n",
    "            'sharpe',\n",
    "            returns.distribution.mean /\n",
    "            returns.distribution.variance**.5*np.sqrt(252))\n",
    "\n",
    "        step = pm.NUTS()\n",
    "        trace = pm.sample(samples, tune=samples, step=step) \n",
    "    return model, trace\n",
    "\n",
    "def laplace_model(R, samples):\n",
    "    \"\"\"fn: sample laplace model of strategy returns\n",
    "    \n",
    "    # args \n",
    "        R: pd.Series() simple returns ts\n",
    "        sample_wkds: dict containing sampler kwds\n",
    "    # returns\n",
    "        model, trace\n",
    "    \"\"\"\n",
    "    with pm.Model() as model:\n",
    "        mu = pm.Normal('mean rets', mu=0, sd=.01, testval=R.mean())\n",
    "        sigma = pm.HalfCauchy('vol', beta=1, testval=R.std())\n",
    "        returns = pm.Laplace('returns', mu=mu, b=sigma, observed=R)\n",
    "\n",
    "        pm.Deterministic(\n",
    "            'annual mean returns',\n",
    "            returns.distribution.mean * 252)\n",
    "\n",
    "        pm.Deterministic(\n",
    "            'annual volatility',\n",
    "            returns.distribution.variance**.5 *\n",
    "            np.sqrt(252))\n",
    "\n",
    "        pm.Deterministic(\n",
    "            'sharpe',\n",
    "            returns.distribution.mean /\n",
    "            returns.distribution.variance**.5*np.sqrt(252))\n",
    "\n",
    "        step = pm.NUTS(target_accept=.9)\n",
    "        trace = pm.sample(samples, tune=samples, step=step) \n",
    "    return model, trace \n",
    "\n",
    "def student_model(R, samples):\n",
    "    \"\"\"fn: sample Student T model of strategy returns\n",
    "    \n",
    "    # args \n",
    "        R: pd.Series() simple returns ts\n",
    "        sample_wkds: dict containing sampler kwds\n",
    "    # returns\n",
    "        model, trace\n",
    "    \"\"\"\n",
    "\n",
    "    with pm.Model() as model:\n",
    "        nu = pm.Exponential('nu_minus_two', 1. / 10., testval=3.)\n",
    "        mu = pm.Normal('mean rets', mu=0, sd=.01, testval=R.mean())\n",
    "        sigma = pm.HalfCauchy('vol', beta=1, testval=R.std())\n",
    "        returns = pm.StudentT('returns', nu=nu+2, mu=mu, sd=sigma, observed=R)\n",
    "\n",
    "        pm.Deterministic(\n",
    "            'annual mean rets',\n",
    "            returns.distribution.mean * 252)\n",
    "\n",
    "        pm.Deterministic(\n",
    "            'annual volatility',\n",
    "            returns.distribution.variance**.5*np.sqrt(252))\n",
    "\n",
    "        pm.Deterministic(\n",
    "            'sharpe',\n",
    "            returns.distribution.mean /\n",
    "            returns.distribution.variance**.5*np.sqrt(252))\n",
    "\n",
    "        step = pm.NUTS(target_accept=.9)\n",
    "        trace = pm.sample(samples, tune=samples, step=step) \n",
    "    return model, trace\n",
    "\n",
    "def run_models_traces(r, samples=2_000):\n",
    "    \"\"\"fn: to run multiple models using algo returns\n",
    "    \n",
    "    # args\n",
    "        r: shared theano array\n",
    "            example: shared(R['normal_4'].values)\n",
    "    # returns\n",
    "        models: ordereddict with model outputs\n",
    "        traces: ordereddict with trace outputs\n",
    "    \"\"\"\n",
    "\n",
    "    # get model, traces\n",
    "    norm_model, norm_trace = normal_model(r, samples)\n",
    "    la_model, la_trace = laplace_model(r, samples)\n",
    "    t_model, t_trace = student_model(r, samples)  \n",
    "    \n",
    "    # ordered dict is required to ensure insertion order\n",
    "    # python 3.7 dict will implement insertion order feature by default\n",
    "    models = od(norm_model=norm_model, la_model=la_model, t_model=t_model)    \n",
    "    traces = od(norm_trace=norm_trace, la_trace=la_trace, t_trace=t_trace)\n",
    "    return models, traces"
   ]
  },
  {
   "cell_type": "markdown",
   "metadata": {},
   "source": [
    "For this portion of the analysis we will focus on the best algorithm variant `normal_4`."
   ]
  },
  {
   "cell_type": "code",
   "execution_count": 33,
   "metadata": {
    "ExecuteTime": {
     "end_time": "2018-06-03T06:28:36.365058Z",
     "start_time": "2018-06-03T06:27:07.824336Z"
    }
   },
   "outputs": [
    {
     "name": "stderr",
     "output_type": "stream",
     "text": [
      "Multiprocess sampling (4 chains in 4 jobs)\n",
      "NUTS: [vol_log__, mean rets]\n",
      "  0%|          | 0/4000 [00:00<?, ?it/s]INFO (theano.gof.compilelock): Waiting for existing lock by process '29493' (I am process '29495')\n",
      "INFO (theano.gof.compilelock): To manually release the lock, delete /home/bcr/.theano/compiledir_Linux-4.13--generic-x86_64-with-debian-stretch-sid-x86_64-3.6.4-64/lock_dir\n",
      "INFO (theano.gof.compilelock): Waiting for existing lock by process '29493' (I am process '29496')\n",
      "INFO (theano.gof.compilelock): To manually release the lock, delete /home/bcr/.theano/compiledir_Linux-4.13--generic-x86_64-with-debian-stretch-sid-x86_64-3.6.4-64/lock_dir\n",
      "100%|██████████| 4000/4000 [00:11<00:00, 337.14it/s]\n",
      "INFO (theano.gof.compilelock): Waiting for existing lock by process '29495' (I am process '29496')\n",
      "INFO (theano.gof.compilelock): To manually release the lock, delete /home/bcr/.theano/compiledir_Linux-4.13--generic-x86_64-with-debian-stretch-sid-x86_64-3.6.4-64/lock_dir\n",
      "Multiprocess sampling (4 chains in 4 jobs)\n",
      "NUTS: [vol_log__, mean rets]\n",
      "100%|██████████| 4000/4000 [00:07<00:00, 500.64it/s]\n",
      "Multiprocess sampling (4 chains in 4 jobs)\n",
      "NUTS: [vol_log__, mean rets, nu_minus_two_log__]\n",
      "100%|██████████| 4000/4000 [00:11<00:00, 340.40it/s]\n"
     ]
    },
    {
     "name": "stdout",
     "output_type": "stream",
     "text": [
      "CPU times: user 6.2 s, sys: 705 ms, total: 6.91 s\n",
      "Wall time: 1min 28s\n"
     ]
    }
   ],
   "source": [
    "%%time\n",
    "\n",
    "best_algo_variant = 'normal_2_thres_70'\n",
    "r = R[best_algo_variant].values\n",
    "models, traces = run_models_traces(r)"
   ]
  },
  {
   "cell_type": "code",
   "execution_count": 39,
   "metadata": {
    "ExecuteTime": {
     "end_time": "2018-06-03T06:33:15.326837Z",
     "start_time": "2018-06-03T06:33:15.309806Z"
    }
   },
   "outputs": [
    {
     "ename": "AttributeError",
     "evalue": "'str' object has no attribute 'name'",
     "output_type": "error",
     "traceback": [
      "\u001b[0;31m---------------------------------------------------------------------------\u001b[0m",
      "\u001b[0;31mAttributeError\u001b[0m                            Traceback (most recent call last)",
      "\u001b[0;32m<ipython-input-39-23442d1653f6>\u001b[0m in \u001b[0;36m<module>\u001b[0;34m()\u001b[0m\n\u001b[0;32m----> 1\u001b[0;31m \u001b[0mpm\u001b[0m\u001b[0;34m.\u001b[0m\u001b[0mcompare\u001b[0m\u001b[0;34m(\u001b[0m\u001b[0mtraces\u001b[0m\u001b[0;34m)\u001b[0m\u001b[0;34m\u001b[0m\u001b[0m\n\u001b[0m",
      "\u001b[0;32m/media/bcr/HDD/anaconda3/envs/bayes_dash/lib/python3.6/site-packages/pymc3/stats.py\u001b[0m in \u001b[0;36mcompare\u001b[0;34m(model_dict, ic, method, b_samples, alpha, seed, round_to)\u001b[0m\n\u001b[1;32m    520\u001b[0m     \"\"\"\n\u001b[1;32m    521\u001b[0m \u001b[0;34m\u001b[0m\u001b[0m\n\u001b[0;32m--> 522\u001b[0;31m     \u001b[0mnames\u001b[0m \u001b[0;34m=\u001b[0m \u001b[0;34m[\u001b[0m\u001b[0mmodel\u001b[0m\u001b[0;34m.\u001b[0m\u001b[0mname\u001b[0m \u001b[0;32mfor\u001b[0m \u001b[0mmodel\u001b[0m \u001b[0;32min\u001b[0m \u001b[0mmodel_dict\u001b[0m \u001b[0;32mif\u001b[0m \u001b[0mmodel\u001b[0m\u001b[0;34m.\u001b[0m\u001b[0mname\u001b[0m\u001b[0;34m]\u001b[0m\u001b[0;34m\u001b[0m\u001b[0m\n\u001b[0m\u001b[1;32m    523\u001b[0m     \u001b[0;32mif\u001b[0m \u001b[0;32mnot\u001b[0m \u001b[0mnames\u001b[0m\u001b[0;34m:\u001b[0m\u001b[0;34m\u001b[0m\u001b[0m\n\u001b[1;32m    524\u001b[0m         \u001b[0mnames\u001b[0m \u001b[0;34m=\u001b[0m \u001b[0mnp\u001b[0m\u001b[0;34m.\u001b[0m\u001b[0marange\u001b[0m\u001b[0;34m(\u001b[0m\u001b[0mlen\u001b[0m\u001b[0;34m(\u001b[0m\u001b[0mmodel_dict\u001b[0m\u001b[0;34m)\u001b[0m\u001b[0;34m)\u001b[0m\u001b[0;34m\u001b[0m\u001b[0m\n",
      "\u001b[0;32m/media/bcr/HDD/anaconda3/envs/bayes_dash/lib/python3.6/site-packages/pymc3/stats.py\u001b[0m in \u001b[0;36m<listcomp>\u001b[0;34m(.0)\u001b[0m\n\u001b[1;32m    520\u001b[0m     \"\"\"\n\u001b[1;32m    521\u001b[0m \u001b[0;34m\u001b[0m\u001b[0m\n\u001b[0;32m--> 522\u001b[0;31m     \u001b[0mnames\u001b[0m \u001b[0;34m=\u001b[0m \u001b[0;34m[\u001b[0m\u001b[0mmodel\u001b[0m\u001b[0;34m.\u001b[0m\u001b[0mname\u001b[0m \u001b[0;32mfor\u001b[0m \u001b[0mmodel\u001b[0m \u001b[0;32min\u001b[0m \u001b[0mmodel_dict\u001b[0m \u001b[0;32mif\u001b[0m \u001b[0mmodel\u001b[0m\u001b[0;34m.\u001b[0m\u001b[0mname\u001b[0m\u001b[0;34m]\u001b[0m\u001b[0;34m\u001b[0m\u001b[0m\n\u001b[0m\u001b[1;32m    523\u001b[0m     \u001b[0;32mif\u001b[0m \u001b[0;32mnot\u001b[0m \u001b[0mnames\u001b[0m\u001b[0;34m:\u001b[0m\u001b[0;34m\u001b[0m\u001b[0m\n\u001b[1;32m    524\u001b[0m         \u001b[0mnames\u001b[0m \u001b[0;34m=\u001b[0m \u001b[0mnp\u001b[0m\u001b[0;34m.\u001b[0m\u001b[0marange\u001b[0m\u001b[0;34m(\u001b[0m\u001b[0mlen\u001b[0m\u001b[0;34m(\u001b[0m\u001b[0mmodel_dict\u001b[0m\u001b[0;34m)\u001b[0m\u001b[0;34m)\u001b[0m\u001b[0;34m\u001b[0m\u001b[0m\n",
      "\u001b[0;31mAttributeError\u001b[0m: 'str' object has no attribute 'name'"
     ]
    }
   ],
   "source": [
    "traces[]"
   ]
  },
  {
   "cell_type": "code",
   "execution_count": 34,
   "metadata": {
    "ExecuteTime": {
     "end_time": "2018-06-03T06:28:36.500978Z",
     "start_time": "2018-06-03T06:28:36.434989Z"
    }
   },
   "outputs": [
    {
     "ename": "AttributeError",
     "evalue": "'MultiTrace' object has no attribute 'name'",
     "output_type": "error",
     "traceback": [
      "\u001b[0;31m---------------------------------------------------------------------------\u001b[0m",
      "\u001b[0;31mAttributeError\u001b[0m                            Traceback (most recent call last)",
      "\u001b[0;32m<ipython-input-34-93dee6c0a3be>\u001b[0m in \u001b[0;36m<module>\u001b[0;34m()\u001b[0m\n\u001b[1;32m      3\u001b[0m df_comp_WAIC = (pm.compare(traces.values(),\n\u001b[1;32m      4\u001b[0m                            \u001b[0mlist\u001b[0m\u001b[0;34m(\u001b[0m\u001b[0mmodels\u001b[0m\u001b[0;34m.\u001b[0m\u001b[0mvalues\u001b[0m\u001b[0;34m(\u001b[0m\u001b[0;34m)\u001b[0m\u001b[0;34m)\u001b[0m\u001b[0;34m,\u001b[0m\u001b[0;34m\u001b[0m\u001b[0m\n\u001b[0;32m----> 5\u001b[0;31m                            method='stacking')\n\u001b[0m\u001b[1;32m      6\u001b[0m                            \u001b[0;31m#method='BB-pseudo-BMA') # using this method results in only 1 model being weighted\u001b[0m\u001b[0;34m\u001b[0m\u001b[0;34m\u001b[0m\u001b[0m\n\u001b[1;32m      7\u001b[0m                 .assign(model_code=lambda df: df.index))\n",
      "\u001b[0;32m/media/bcr/HDD/anaconda3/envs/bayes_dash/lib/python3.6/site-packages/pymc3/stats.py\u001b[0m in \u001b[0;36mcompare\u001b[0;34m(model_dict, ic, method, b_samples, alpha, seed, round_to)\u001b[0m\n\u001b[1;32m    520\u001b[0m     \"\"\"\n\u001b[1;32m    521\u001b[0m \u001b[0;34m\u001b[0m\u001b[0m\n\u001b[0;32m--> 522\u001b[0;31m     \u001b[0mnames\u001b[0m \u001b[0;34m=\u001b[0m \u001b[0;34m[\u001b[0m\u001b[0mmodel\u001b[0m\u001b[0;34m.\u001b[0m\u001b[0mname\u001b[0m \u001b[0;32mfor\u001b[0m \u001b[0mmodel\u001b[0m \u001b[0;32min\u001b[0m \u001b[0mmodel_dict\u001b[0m \u001b[0;32mif\u001b[0m \u001b[0mmodel\u001b[0m\u001b[0;34m.\u001b[0m\u001b[0mname\u001b[0m\u001b[0;34m]\u001b[0m\u001b[0;34m\u001b[0m\u001b[0m\n\u001b[0m\u001b[1;32m    523\u001b[0m     \u001b[0;32mif\u001b[0m \u001b[0;32mnot\u001b[0m \u001b[0mnames\u001b[0m\u001b[0;34m:\u001b[0m\u001b[0;34m\u001b[0m\u001b[0m\n\u001b[1;32m    524\u001b[0m         \u001b[0mnames\u001b[0m \u001b[0;34m=\u001b[0m \u001b[0mnp\u001b[0m\u001b[0;34m.\u001b[0m\u001b[0marange\u001b[0m\u001b[0;34m(\u001b[0m\u001b[0mlen\u001b[0m\u001b[0;34m(\u001b[0m\u001b[0mmodel_dict\u001b[0m\u001b[0;34m)\u001b[0m\u001b[0;34m)\u001b[0m\u001b[0;34m\u001b[0m\u001b[0m\n",
      "\u001b[0;32m/media/bcr/HDD/anaconda3/envs/bayes_dash/lib/python3.6/site-packages/pymc3/stats.py\u001b[0m in \u001b[0;36m<listcomp>\u001b[0;34m(.0)\u001b[0m\n\u001b[1;32m    520\u001b[0m     \"\"\"\n\u001b[1;32m    521\u001b[0m \u001b[0;34m\u001b[0m\u001b[0m\n\u001b[0;32m--> 522\u001b[0;31m     \u001b[0mnames\u001b[0m \u001b[0;34m=\u001b[0m \u001b[0;34m[\u001b[0m\u001b[0mmodel\u001b[0m\u001b[0;34m.\u001b[0m\u001b[0mname\u001b[0m \u001b[0;32mfor\u001b[0m \u001b[0mmodel\u001b[0m \u001b[0;32min\u001b[0m \u001b[0mmodel_dict\u001b[0m \u001b[0;32mif\u001b[0m \u001b[0mmodel\u001b[0m\u001b[0;34m.\u001b[0m\u001b[0mname\u001b[0m\u001b[0;34m]\u001b[0m\u001b[0;34m\u001b[0m\u001b[0m\n\u001b[0m\u001b[1;32m    523\u001b[0m     \u001b[0;32mif\u001b[0m \u001b[0;32mnot\u001b[0m \u001b[0mnames\u001b[0m\u001b[0;34m:\u001b[0m\u001b[0;34m\u001b[0m\u001b[0m\n\u001b[1;32m    524\u001b[0m         \u001b[0mnames\u001b[0m \u001b[0;34m=\u001b[0m \u001b[0mnp\u001b[0m\u001b[0;34m.\u001b[0m\u001b[0marange\u001b[0m\u001b[0;34m(\u001b[0m\u001b[0mlen\u001b[0m\u001b[0;34m(\u001b[0m\u001b[0mmodel_dict\u001b[0m\u001b[0;34m)\u001b[0m\u001b[0;34m)\u001b[0m\u001b[0;34m\u001b[0m\u001b[0m\n",
      "\u001b[0;32m/media/bcr/HDD/anaconda3/envs/bayes_dash/lib/python3.6/site-packages/pymc3/backends/base.py\u001b[0m in \u001b[0;36m__getattr__\u001b[0;34m(self, name)\u001b[0m\n\u001b[1;32m    338\u001b[0m             \u001b[0;32mreturn\u001b[0m \u001b[0mself\u001b[0m\u001b[0;34m.\u001b[0m\u001b[0mget_sampler_stats\u001b[0m\u001b[0;34m(\u001b[0m\u001b[0mname\u001b[0m\u001b[0;34m)\u001b[0m\u001b[0;34m\u001b[0m\u001b[0m\n\u001b[1;32m    339\u001b[0m         raise AttributeError(\"'{}' object has no attribute '{}'\".format(\n\u001b[0;32m--> 340\u001b[0;31m             type(self).__name__, name))\n\u001b[0m\u001b[1;32m    341\u001b[0m \u001b[0;34m\u001b[0m\u001b[0m\n\u001b[1;32m    342\u001b[0m     \u001b[0;32mdef\u001b[0m \u001b[0m__len__\u001b[0m\u001b[0;34m(\u001b[0m\u001b[0mself\u001b[0m\u001b[0;34m)\u001b[0m\u001b[0;34m:\u001b[0m\u001b[0;34m\u001b[0m\u001b[0m\n",
      "\u001b[0;31mAttributeError\u001b[0m: 'MultiTrace' object has no attribute 'name'"
     ]
    }
   ],
   "source": [
    "LABEL_MAP = od(zip(range(len(models.keys())), models.keys()))\n",
    "\n",
    "df_comp_WAIC = (pm.compare(traces.values(),\n",
    "                           list(models.values()),\n",
    "                           method='stacking')\n",
    "                           #method='BB-pseudo-BMA') # using this method results in only 1 model being weighted\n",
    "                .assign(model_code=lambda df: df.index))\n",
    "df_comp = (df_comp_WAIC\n",
    "           .assign(model_name=lambda df: (df.model_code\n",
    "                                          .apply(lambda x: LABEL_MAP[x]))))\n",
    "df_comp"
   ]
  },
  {
   "cell_type": "code",
   "execution_count": null,
   "metadata": {
    "ExecuteTime": {
     "end_time": "2018-06-03T06:28:36.502369Z",
     "start_time": "2018-06-03T06:27:10.606Z"
    }
   },
   "outputs": [],
   "source": [
    "fig, ax = plt.subplots()\n",
    "pm.compareplot(df_comp_WAIC, ax=ax);\n",
    "ticks = ax.get_yticklabels()\n",
    "new_ticklabels = pmh.make_new_ticklabels(LABEL_MAP, ticks)\n",
    "ax.set_yticklabels(new_ticklabels);"
   ]
  },
  {
   "cell_type": "code",
   "execution_count": null,
   "metadata": {
    "ExecuteTime": {
     "end_time": "2018-06-03T06:28:36.503895Z",
     "start_time": "2018-06-03T06:27:11.294Z"
    }
   },
   "outputs": [],
   "source": [
    "pm.forestplot(list(traces.values()))"
   ]
  },
  {
   "cell_type": "markdown",
   "metadata": {},
   "source": [
    "The best model is the `t_model` as it has the smallest deviance critierion. We can look at its traceplots below."
   ]
  },
  {
   "cell_type": "code",
   "execution_count": null,
   "metadata": {
    "ExecuteTime": {
     "end_time": "2018-06-03T06:28:36.505415Z",
     "start_time": "2018-06-03T06:27:12.672Z"
    }
   },
   "outputs": [],
   "source": [
    "rvs = pmh.get_model_varnames(models['t_model'])\n",
    "pmh.plot_traces_pymc(traces['t_trace'], varnames=rvs)"
   ]
  },
  {
   "cell_type": "markdown",
   "metadata": {},
   "source": [
    "## 4. Comparing Bayesian Cones for all Algos and all Return Models\n",
    "\n",
    "Even though we already know which model best describes the data, let's compare these algo variants and models a little more, in order to better understand how the model choices affect our algorithm performance predictions.\n",
    "\n",
    "To demonstrate this, in the next section we will sample from each of the 3 models for each of the 4 algorithm variants and output their predicted performance in the form of a [bayesian cone](https://blog.quantopian.com/bayesian-cone/). I first became aware of this concept via Thomas Wiecki at Quantopian. Simply put it is a Bayesian methodology to predict the probable return paths of the algorithm in question. Their primary use case was trying to determine if an algorithm was overfitted to its sample period by comparing its performance since going **live** vs its **backtest** performance. Once an algorithm is **live** if it severely underperforms the sampled bayesian credible intervals then it is likely overfitted.\n",
    "\n",
    "However in this use case we are going to adapt the methodology to simply predict the algo's likely return paths (aka future performance) and our uncertainty concerning the predicted performance.\n",
    "\n",
    "First we are going to make a prediction dictionary to hold the following information for each model:\n",
    "\n",
    "* `name`: this is the string name of the model and the dictionary key.\n",
    "* `ppc_samples`: this is the raw `pm.sample_ppc()` output.\n",
    "* `ppc`: this is a formatted df of the `ppc_samples` output.\n",
    "* `cuml_df`: this is a formatted df of *predicted* cumulative returns."
   ]
  },
  {
   "cell_type": "code",
   "execution_count": null,
   "metadata": {
    "ExecuteTime": {
     "end_time": "2018-06-03T06:28:36.507460Z",
     "start_time": "2018-06-03T06:27:18.912Z"
    },
    "scrolled": true
   },
   "outputs": [],
   "source": [
    "%%time\n",
    "\n",
    "preds = {}\n",
    "\n",
    "for algo_name in R.columns:\n",
    "    print('-'*77)\n",
    "    print(f'sampling algorithm variant: {algo_name}')\n",
    "    print()\n",
    "    tmp_dict = {}\n",
    "    tmp_r = shared(R[algo_name].dropna().values)\n",
    "    tmp_models, tmp_traces = run_models_traces(tmp_r)\n",
    "    \n",
    "    for (name, model), trace in zip(tmp_models.items(), tmp_traces.values()):\n",
    "        ppc_samples = pm.sample_ppc(trace, \n",
    "                                    samples=252*2,\n",
    "                                    model=model,\n",
    "                                    size=tmp_r.eval().shape[0])\n",
    "        ppc, cuml_df = pmh.make_df(ppc_samples)\n",
    "        tmp_dict[name] = dict(ppc_samples=ppc_samples,\n",
    "                              ppc=ppc,\n",
    "                              cuml_df=cuml_df)\n",
    "    preds[algo_name] = tmp_dict"
   ]
  },
  {
   "cell_type": "markdown",
   "metadata": {},
   "source": [
    "In this section we are adapting the [bayesian cone](https://github.com/quantopian/pyfolio/blob/master/pyfolio/bayesian.py) code from [pyfolio](https://github.com/quantopian/pyfolio) for our use case below. \n",
    "\n",
    "1. The first function `make_train_test()` is creating the train and test splits needed for the bayesian cone plot. In the original use case this is a little simpler because we would simply be splitting the algorithm return series at the date when the algorithm is **live**. In this custom implementation we are using *all* of the algorithm's *cumulative returns + 1*, as the **train** set. The **test** set is the *predicted mean* of the sampled cumulative returns scaled by the last return of the train set.\n",
    "\n",
    "2. The function `compute_bayes_cone()` is calculating the percentile scores, or returns at the specified percentiles.\n",
    "\n",
    "3. The function `plot_bayes_cone()` plots a single algorithm's predicted performance along with credible intervals we computed `compute_bayes_cone()`\n",
    "\n",
    "4. The function `plot_bayes_cone_grid()` is simply a wrapper function to plot each of the `4` algorithm variants with each of the `3` models for easy comparison"
   ]
  },
  {
   "cell_type": "code",
   "execution_count": null,
   "metadata": {
    "ExecuteTime": {
     "end_time": "2018-06-03T06:28:36.509281Z",
     "start_time": "2018-06-03T06:27:20.048Z"
    }
   },
   "outputs": [],
   "source": [
    "## Code adapted from: https://github.com/quantopian/pyfolio/blob/master/pyfolio/bayesian.py ##\n",
    "\n",
    "def make_train_test(returns, cuml_df):\n",
    "    \"\"\"fn: to make train test dfs\n",
    "    \n",
    "    # args\n",
    "        returns: pd.Series()\n",
    "        cuml_df: df of simulated cuml returns\n",
    "    \n",
    "    # returns\n",
    "        train, test: pd.Series(), pd.DataFrame()\n",
    "    \"\"\"\n",
    "    t = returns.cumsum().add(1)\n",
    "    t_test = cuml_df['mean_sim_port'].add(1) * t.iloc[-1]\n",
    "    t_test.index = t_test.index.tz_localize('utc')\n",
    "    return t, t_test\n",
    "\n",
    "def compute_bayes_cone(preds, starting_value=1.):\n",
    "    \"\"\"\n",
    "    Compute 5, 25, 75 and 95 percentiles of cumulative returns, used\n",
    "    for the Bayesian cone.\n",
    "    Parameters\n",
    "    ----------\n",
    "    preds : numpy.array\n",
    "        Multiple (simulated) cumulative returns.\n",
    "    starting_value : int (optional)\n",
    "        Have cumulative returns start around this value.\n",
    "        Default = 1.\n",
    "    Returns\n",
    "    -------\n",
    "    dict of percentiles over time\n",
    "        Dictionary mapping percentiles (5, 25, 75, 95) to a\n",
    "        timeseries.\n",
    "    \"\"\"\n",
    "\n",
    "    def scoreatpercentile(cum_preds, p):\n",
    "        return [stats.scoreatpercentile(\n",
    "            c, p) for c in cum_preds.T]\n",
    "\n",
    "    cum_preds = np.cumprod(preds + 1, 1) * starting_value\n",
    "    perc = {p: scoreatpercentile(cum_preds, p) for p in (5, 25, 75, 95)}\n",
    "\n",
    "    return perc\n",
    "\n",
    "def plot_bayes_cone(train, test, algo_name, model_name, percentiles, ax=None):\n",
    "    \"\"\"fn: plot bayes cone using train 'test' split\"\"\"\n",
    "    if ax is None: ax = plt.gca()\n",
    "        \n",
    "    t = train\n",
    "    t_rel = test\n",
    "    t.loc[t_rel.index[0]] = t_rel.iloc[0]\n",
    "\n",
    "    t.plot(ax=ax, color='g', label='in-sample')\n",
    "    t_rel.plot(ax=ax, color='r', label='future estimate')\n",
    "\n",
    "    ax.fill_between(t_rel.index, percentiles[5], percentiles[95], alpha=.3)\n",
    "    ax.fill_between(t_rel.index, percentiles[25], percentiles[75], alpha=.6)\n",
    "    ax.legend(loc='upper left', frameon=True, framealpha=0.5)\n",
    "    ax.set_title(f'Bayesian cone || {algo_name}::{model_name}')\n",
    "    ax.set_xlabel('')\n",
    "    ax.set_ylabel('Cumulative returns')\n",
    "\n",
    "    ax.set_xlim(t.index[0], t_rel.index[-1])\n",
    "\n",
    "\n",
    "def plot_bayes_cone_grid(preds, R, LABEL_MAP):\n",
    "\n",
    "    algo_names = R.columns\n",
    "    model_names = list(LABEL_MAP.values())\n",
    "    \n",
    "    n = len(model_names)\n",
    "    m = len(algo_names)\n",
    "    \n",
    "    fig, axes = plt.subplots(m,n, figsize=(15,15))\n",
    "\n",
    "    for i, algo_name in enumerate(algo_names):    \n",
    "        for j, model_name in enumerate(model_names):\n",
    "\n",
    "            r = R[algo_name]\n",
    "            tmp_c_df = preds[algo_name][model_name]['cuml_df']\n",
    "            train, test = make_train_test(r, tmp_c_df)\n",
    "\n",
    "            tmp_ppc_samples = preds[algo_name][model_name]['ppc_samples']\n",
    "            \n",
    "            # extract subsample before computing cone\n",
    "            df_t = (pd.DataFrame(tmp_ppc_samples['returns'])\n",
    "                    .sample(len(tmp_ppc_samples['returns']),\n",
    "                            axis=1)\n",
    "                    .values)\n",
    "            perc = compute_bayes_cone(df_t, starting_value=train.iloc[-1])\n",
    "\n",
    "            ax = axes[i,j]\n",
    "            plot_bayes_cone(train, test, algo_name, model_name, perc, ax=ax)\n",
    "        plt.suptitle('Bayesian cone || algo_name::model_name', fontsize=14, fontweight='medium',)\n",
    "    plt.tight_layout()    \n",
    "    fig.subplots_adjust(top=.9)\n",
    "    save_pth = PurePath(viz_dir/f'bayesian_cones_comparison.png').as_posix()\n",
    "    fig.savefig(save_pth, dpi=300, bbox_inches='tight')    "
   ]
  },
  {
   "cell_type": "markdown",
   "metadata": {},
   "source": [
    "Now let's examine the results."
   ]
  },
  {
   "cell_type": "code",
   "execution_count": null,
   "metadata": {
    "ExecuteTime": {
     "end_time": "2018-06-03T06:28:36.511114Z",
     "start_time": "2018-06-03T06:27:21.249Z"
    },
    "scrolled": false
   },
   "outputs": [],
   "source": [
    "## plot\n",
    "plot_bayes_cone_grid(preds, R, LABEL_MAP)"
   ]
  },
  {
   "cell_type": "markdown",
   "metadata": {},
   "source": [
    "#### Some observations:\n",
    "\n",
    "* If we look at the first column which features all 4 algo variants paired with the `norm_model` we can see that compared to the other columns the `norm_model` consistently has the widest dispersion of predicted return paths. This is somewhat counterintuitive given that the Student T model is supposed to incorporate wider tails. \n",
    "\n",
    "* Looking at the `la_model` column we can see that it consistently estimates the predicted return path to hover very close to zero on average no matter what the performance of the of the algorithm was. To me this would signify that the `la_model` is misspecified or that the `laplace` likelihood we used to model the returns is too restrictive. The `la_model` also seems to have the smallest range in the cone compared to the others.\n",
    "\n",
    "* The `t_model` seems to incorporate a good blend of the uncertainty in our predictions and the previous algorithm performance. It seems to be somewhere in the middle in terms of the width of the cone, between the `norm_model` and the `la_model`. \n",
    "    * We can see some potential misspecification with the `normal_1` algo paired with the `t_model`. The bayesian cone appears artificially tight around the predicted values.\n",
    "    * Also we can see some sampling errors in the with `laplace` algo paired `t_model`. For whatever reason there is no cone produced at all. \n"
   ]
  },
  {
   "cell_type": "markdown",
   "metadata": {},
   "source": [
    "## 5. Compare Best Algo's Predicted Portfolio Ending Values\n",
    "## 6. Compare Best Algo Predicted CAGR Distributions\n",
    "\n",
    "In the next section we will quantify our observations about the bayesian cone widths. We will again disregard all the other algorithm variants and use our `best_algo_variant` which is the `normal_4` algo to compare each of the `3` models and the width's of their bayesian cones at the **end** of the prediction period. To do this we will be using the distribution of the simulated portfolio ending values and comparing their `5, 50, 95` percentile values. \n",
    "\n",
    "This analysis will also allow us to compare estimated CAGRs of the `best_algo_variant` for each of the `3` return models."
   ]
  },
  {
   "cell_type": "markdown",
   "metadata": {},
   "source": [
    "First let's look at a quick sample of the predicted cumulative return paths of our best algorithm with the \"best\" model of returns."
   ]
  },
  {
   "cell_type": "code",
   "execution_count": null,
   "metadata": {
    "ExecuteTime": {
     "end_time": "2018-06-03T06:28:36.512878Z",
     "start_time": "2018-06-03T06:27:26.168Z"
    },
    "scrolled": false
   },
   "outputs": [],
   "source": [
    "%%time\n",
    "\n",
    "ex_cuml_df = preds[best_algo_variant]['t_model']['cuml_df']\n",
    "\n",
    "fig, ax = plt.subplots(figsize=(15,5))\n",
    "ex_cuml_df.sample(150, axis=1).plot(legend=False, ax=ax, x_compat=True)\n",
    "xmin, xmax = ex_cuml_df.index.min(), ex_cuml_df.index.max()\n",
    "ax.set_xlim((xmin, xmax))\n",
    "save_pth=PurePath(viz_dir/f'best_algo_t_model_simulated_paths_sample.png').as_posix()\n",
    "fig.savefig(save_pth, dpi=300)"
   ]
  },
  {
   "cell_type": "markdown",
   "metadata": {},
   "source": [
    "In this section we are going to extract the simulated portfolio ending values using the best algo variant `normal_4` and for each return model and we're going to compare the ending value distributions.\n",
    "\n",
    "We will also compute **CAGR's** for each simulated return path and summarize the distribution of expected CAGRs using the `5, 50, 95` percentiles. "
   ]
  },
  {
   "cell_type": "code",
   "execution_count": null,
   "metadata": {
    "ExecuteTime": {
     "end_time": "2018-06-03T06:28:36.514502Z",
     "start_time": "2018-06-03T06:27:27.178Z"
    },
    "scrolled": false
   },
   "outputs": [],
   "source": [
    "n_cols = 5000\n",
    "quantiles = [0.05,.5,.95]\n",
    "model_names = list(LABEL_MAP.values())\n",
    "\n",
    "for model in model_names:\n",
    "    ## get ppc, paths and end vals \n",
    "    tmp_ppc = preds[best_algo_variant][model]['ppc']\n",
    "    sim_path_df = pmh.get_paths(tmp_ppc, n_cols)\n",
    "    sim_end_val = pmh.get_end_vals(sim_path_df)\n",
    "    \n",
    "    ## plot sim port end vals\n",
    "    fig, axes = plt.subplots(1,2, figsize=(15,3))\n",
    "    pmh.plot_port_end_dist(sim_end_val, axes,\n",
    "                           model_name=model)\n",
    "    save_pth = PurePath(viz_dir/f'best_algo_{model}_simulated_ending_values_dist.png').as_posix()\n",
    "    fig.savefig(save_pth, dpi=300)\n",
    "    ## plot cagr bar\n",
    "    cagr = ffn.calc_cagr(sim_path_df)\n",
    "    step = .01\n",
    "    pcts = np.arange(0,1+step,step)\n",
    "    pcts = np.round(pd.Index(pcts),2)\n",
    "    ser = cagr.quantile(pcts)    \n",
    "\n",
    "    fig, ax = plt.subplots(figsize=(15,3))\n",
    "    pmh.plot_cagr_bar(ser, quantiles,\n",
    "                      ax, model_name=model)\n",
    "    save_pth = PurePath(viz_dir/f'best_algo_{model}_simulated_cagr_perc.png').as_posix()\n",
    "    fig.savefig(save_pth, dpi=300)    "
   ]
  },
  {
   "cell_type": "markdown",
   "metadata": {},
   "source": [
    "## 7. Model Averaging\n",
    "\n",
    "So now we have `3` return models. Our previous `WAIC` based decision criterion told us that the `t_model` does the best job of modeling the algorithm returns. But as we can see there are other potentially credible models that hold information that could help improve our predictions. How can we incorporate other useful models in our predictions?\n",
    "\n",
    "Lucky for us `pymc3` has made the process straightforward. In section `3` we compared our `3` models using `pm.compare()`. The output dataframe has a column of `weights` which we can *\"vaguely interpret as the probability that each model will make the correct predictions on future data.\"*\n",
    "\n",
    "Next we can use the function `pm.sample_ppc_w()` to incorporate those weights. Make sure the weights are ordered identically to the traces and models we constructed above."
   ]
  },
  {
   "cell_type": "code",
   "execution_count": null,
   "metadata": {
    "ExecuteTime": {
     "end_time": "2018-06-03T06:28:36.516013Z",
     "start_time": "2018-06-03T06:27:28.852Z"
    }
   },
   "outputs": [],
   "source": [
    "traces.keys()"
   ]
  },
  {
   "cell_type": "code",
   "execution_count": null,
   "metadata": {
    "ExecuteTime": {
     "end_time": "2018-06-03T06:28:36.517549Z",
     "start_time": "2018-06-03T06:27:29.561Z"
    }
   },
   "outputs": [],
   "source": [
    "models.keys()"
   ]
  },
  {
   "cell_type": "code",
   "execution_count": null,
   "metadata": {
    "ExecuteTime": {
     "end_time": "2018-06-03T06:28:36.518872Z",
     "start_time": "2018-06-03T06:27:30.259Z"
    }
   },
   "outputs": [],
   "source": [
    "od_weights = df_comp.set_index('model_name').weight[::-1]\n",
    "od_weights, od_weights.index"
   ]
  },
  {
   "cell_type": "code",
   "execution_count": null,
   "metadata": {
    "ExecuteTime": {
     "end_time": "2018-06-03T06:28:36.520214Z",
     "start_time": "2018-06-03T06:27:31.010Z"
    }
   },
   "outputs": [],
   "source": [
    "def make_ppc_w(traces, models, weights, samples=500):\n",
    "    \"\"\"fn: sample wtd ppc\n",
    "    \n",
    "    # args\n",
    "        traces: list of traces\n",
    "        models: list of models\n",
    "        weights: pd.Series of weights\n",
    "    \n",
    "    # return\n",
    "        ppc_dfs: df of wtd ppc samples\n",
    "    \"\"\"\n",
    "    ppc_w_dfs = []\n",
    "    for _ in tqdm(range(samples)):\n",
    "        ppc_w = pm.sample_ppc_w(traces, 252*2, models,\n",
    "                                weights=weights, progressbar=False)\n",
    "        ppc_df = pmh.make_ppc_df(ppc_w).T.drop_duplicates(keep='last').T\n",
    "        ppc_w_dfs.append(ppc_df)\n",
    "\n",
    "    ppc_dfs = pd.concat(ppc_w_dfs, axis=1)\n",
    "    ppc_dfs.columns = [str(x) for x in range(samples)]\n",
    "    ppc_dfs = pmh.make_mean_path(ppc_dfs)\n",
    "    return ppc_dfs"
   ]
  },
  {
   "cell_type": "code",
   "execution_count": null,
   "metadata": {
    "ExecuteTime": {
     "end_time": "2018-06-03T06:28:36.521598Z",
     "start_time": "2018-06-03T06:27:31.834Z"
    }
   },
   "outputs": [],
   "source": [
    "%%time\n",
    "ts = list(traces.values())\n",
    "ms = list(models.values())\n",
    "\n",
    "ppc_dfs = make_ppc_w(ts, ms, od_weights)\n",
    "cprint(ppc_dfs)"
   ]
  },
  {
   "cell_type": "code",
   "execution_count": null,
   "metadata": {
    "ExecuteTime": {
     "end_time": "2018-06-03T06:28:36.522928Z",
     "start_time": "2018-06-03T06:27:32.604Z"
    }
   },
   "outputs": [],
   "source": [
    "n_cols = 1000\n",
    "quantiles = [0.05,.5,.95]\n",
    "\n",
    "## get ppc, paths and end vals \n",
    "sim_path_df = pmh.get_paths(ppc_dfs, n_cols)\n",
    "sim_end_val = pmh.get_end_vals(sim_path_df)\n",
    "\n",
    "## plot sim port end vals\n",
    "fig, axes = plt.subplots(1,2, figsize=(15,3))\n",
    "pmh.plot_port_end_dist(sim_end_val, axes,\n",
    "                       model_name='stacked_model')\n",
    "save_pth = PurePath(viz_dir/f'stacked_model_simulated_ending_values_dist.png').as_posix()\n",
    "fig.savefig(save_pth, dpi=300)\n",
    "\n",
    "## plot cagr bar\n",
    "cagr = ffn.calc_cagr(sim_path_df)\n",
    "step = .01\n",
    "pcts = np.arange(0,1+step,step)\n",
    "pcts = np.round(pd.Index(pcts),2)\n",
    "ser = cagr.quantile(pcts)    \n",
    "\n",
    "fig, ax = plt.subplots(figsize=(15,3))\n",
    "pmh.plot_cagr_bar(ser, quantiles,\n",
    "                  ax, model_name='stacked_model')\n",
    "save_pth = PurePath(viz_dir/f'stacked_model_simulated_cagr_perc.png').as_posix()\n",
    "fig.savefig(save_pth, dpi=300)  "
   ]
  },
  {
   "cell_type": "markdown",
   "metadata": {},
   "source": [
    "What if we try our own arbitrary weights?"
   ]
  },
  {
   "cell_type": "code",
   "execution_count": null,
   "metadata": {
    "ExecuteTime": {
     "end_time": "2018-06-03T06:28:36.524371Z",
     "start_time": "2018-06-03T06:27:33.701Z"
    }
   },
   "outputs": [],
   "source": [
    "%%time\n",
    "\n",
    "new_weights = [0.3, 0.1, 0.6]\n",
    "\n",
    "new_ppc_dfs = make_ppc_w(ts, ms, new_weights)\n",
    "cprint(new_ppc_dfs)"
   ]
  },
  {
   "cell_type": "code",
   "execution_count": null,
   "metadata": {
    "ExecuteTime": {
     "end_time": "2018-06-03T06:28:36.525774Z",
     "start_time": "2018-06-03T06:27:34.555Z"
    }
   },
   "outputs": [],
   "source": [
    "n_cols = 1000\n",
    "quantiles = [0.05,.5,.95]\n",
    "\n",
    "## get ppc, paths and end vals \n",
    "sim_path_df = pmh.get_paths(new_ppc_dfs, n_cols)\n",
    "sim_end_val = pmh.get_end_vals(sim_path_df)\n",
    "\n",
    "## plot sim port end vals\n",
    "fig, axes = plt.subplots(1,2, figsize=(15,3))\n",
    "pmh.plot_port_end_dist(sim_end_val, axes,\n",
    "                       model_name='alt_stacked_model')\n",
    "save_pth = PurePath(viz_dir/f'alt_stacked_model_simulated_ending_values_dist.png').as_posix()\n",
    "fig.savefig(save_pth, dpi=300)\n",
    "\n",
    "## plot cagr bar\n",
    "cagr = ffn.calc_cagr(sim_path_df)\n",
    "step = .01\n",
    "pcts = np.arange(0,1+step,step)\n",
    "pcts = np.round(pd.Index(pcts),2)\n",
    "ser = cagr.quantile(pcts)    \n",
    "\n",
    "fig, ax = plt.subplots(figsize=(15,3))\n",
    "pmh.plot_cagr_bar(ser, quantiles,\n",
    "                  ax, model_name='alt_stacked_model')\n",
    "save_pth = PurePath(viz_dir/f'alt_stacked_model_simulated_cagr_perc.png').as_posix()\n",
    "fig.savefig(save_pth, dpi=300)  "
   ]
  },
  {
   "cell_type": "markdown",
   "metadata": {},
   "source": [
    "## 8. Conclusions\n",
    "\n",
    "Using our `stacked_model` with the original pymc3 generated weights we can interpret the results as so; Trading the `Normal_4` algorithm variant, we would expect over the next `252*2` days that our portfolio equity will be between `~$96K` and `~$106K` with an expected value of `~$101K`. The predicted CAGR is estimated to be between `-2.6%` and `+4.0%` with an expected value of `0.7%`. "
   ]
  },
  {
   "cell_type": "code",
   "execution_count": null,
   "metadata": {},
   "outputs": [],
   "source": []
  }
 ],
 "metadata": {
  "kernelspec": {
   "display_name": "Python [conda env:bayes_dash]",
   "language": "python",
   "name": "conda-env-bayes_dash-py"
  },
  "language_info": {
   "codemirror_mode": {
    "name": "ipython",
    "version": 3
   },
   "file_extension": ".py",
   "mimetype": "text/x-python",
   "name": "python",
   "nbconvert_exporter": "python",
   "pygments_lexer": "ipython3",
   "version": "3.6.4"
  },
  "toc": {
   "nav_menu": {},
   "number_sections": true,
   "sideBar": true,
   "skip_h1_title": true,
   "title_cell": "Table of Contents",
   "title_sidebar": "Contents",
   "toc_cell": true,
   "toc_position": {},
   "toc_section_display": true,
   "toc_window_display": true
  },
  "varInspector": {
   "cols": {
    "lenName": 16,
    "lenType": 16,
    "lenVar": 40
   },
   "kernels_config": {
    "python": {
     "delete_cmd_postfix": "",
     "delete_cmd_prefix": "del ",
     "library": "var_list.py",
     "varRefreshCmd": "print(var_dic_list())"
    },
    "r": {
     "delete_cmd_postfix": ") ",
     "delete_cmd_prefix": "rm(",
     "library": "var_list.r",
     "varRefreshCmd": "cat(var_dic_list()) "
    }
   },
   "types_to_exclude": [
    "module",
    "function",
    "builtin_function_or_method",
    "instance",
    "_Feature"
   ],
   "window_display": false
  }
 },
 "nbformat": 4,
 "nbformat_minor": 2
}
