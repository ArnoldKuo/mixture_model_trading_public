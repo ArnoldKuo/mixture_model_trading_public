{
 "cells": [
  {
   "cell_type": "markdown",
   "metadata": {
    "slideshow": {
     "slide_type": "slide"
    },
    "toc": true
   },
   "source": [
    "<h1>Table of Contents<span class=\"tocSkip\"></span></h1>\n",
    "<div class=\"toc\"><ul class=\"toc-item\"><li><span><a href=\"#Study-Design\" data-toc-modified-id=\"Study-Design-1\"><span class=\"toc-item-num\">1&nbsp;&nbsp;</span>Study Design</a></span><ul class=\"toc-item\"><li><span><a href=\"#Data\" data-toc-modified-id=\"Data-1.1\"><span class=\"toc-item-num\">1.1&nbsp;&nbsp;</span>Data</a></span></li><li><span><a href=\"#Collect-Model-Functions\" data-toc-modified-id=\"Collect-Model-Functions-1.2\"><span class=\"toc-item-num\">1.2&nbsp;&nbsp;</span>Collect Model Functions</a></span><ul class=\"toc-item\"><li><span><a href=\"#Gaussian-Mixture\" data-toc-modified-id=\"Gaussian-Mixture-1.2.1\"><span class=\"toc-item-num\">1.2.1&nbsp;&nbsp;</span>Gaussian Mixture</a></span></li><li><span><a href=\"#Garch\" data-toc-modified-id=\"Garch-1.2.2\"><span class=\"toc-item-num\">1.2.2&nbsp;&nbsp;</span>Garch</a></span></li><li><span><a href=\"#Gaussian-KDE\" data-toc-modified-id=\"Gaussian-KDE-1.2.3\"><span class=\"toc-item-num\">1.2.3&nbsp;&nbsp;</span>Gaussian KDE</a></span></li><li><span><a href=\"#Historical\" data-toc-modified-id=\"Historical-1.2.4\"><span class=\"toc-item-num\">1.2.4&nbsp;&nbsp;</span>Historical</a></span></li></ul></li></ul></li><li><span><a href=\"#Run-VAR-model\" data-toc-modified-id=\"Run-VAR-model-2\"><span class=\"toc-item-num\">2&nbsp;&nbsp;</span>Run VAR model</a></span></li><li><span><a href=\"#Evaluate-MAPE-results\" data-toc-modified-id=\"Evaluate-MAPE-results-3\"><span class=\"toc-item-num\">3&nbsp;&nbsp;</span>Evaluate MAPE results</a></span><ul class=\"toc-item\"><li><span><a href=\"#Test-model-for-other-symbols\" data-toc-modified-id=\"Test-model-for-other-symbols-3.1\"><span class=\"toc-item-num\">3.1&nbsp;&nbsp;</span>Test model for other symbols</a></span></li></ul></li><li><span><a href=\"#Conclusions\" data-toc-modified-id=\"Conclusions-4\"><span class=\"toc-item-num\">4&nbsp;&nbsp;</span>Conclusions</a></span></li><li><span><a href=\"#Resources-and-Citations\" data-toc-modified-id=\"Resources-and-Citations-5\"><span class=\"toc-item-num\">5&nbsp;&nbsp;</span>Resources and Citations</a></span></li></ul></div>"
   ]
  },
  {
   "cell_type": "code",
   "execution_count": 1,
   "metadata": {
    "ExecuteTime": {
     "end_time": "2019-01-04T22:05:39.199279Z",
     "start_time": "2019-01-04T22:05:38.894810Z"
    },
    "slideshow": {
     "slide_type": "skip"
    }
   },
   "outputs": [
    {
     "name": "stdout",
     "output_type": "stream",
     "text": [
      "2019-11-01T15:51:00-06:00\n",
      "\n",
      "CPython 3.7.5\n",
      "IPython 7.9.0\n",
      "\n",
      "compiler   : GCC 7.3.0\n",
      "system     : Linux\n",
      "release    : 4.15.0-54-generic\n",
      "machine    : x86_64\n",
      "processor  : x86_64\n",
      "CPU cores  : 12\n",
      "interpreter: 64bit\n",
      "\n",
      "pandas 0.25.2\n",
      "pandas_datareader 0.8.0\n",
      "numpy 1.17.2\n",
      "sklearn 0.21.3\n",
      "statsmodels 0.10.1\n",
      "scipy 1.3.1\n",
      "matplotlib 3.1.1\n",
      "seaborn 0.9.0\n",
      "plotnine 0.6.0\n"
     ]
    }
   ],
   "source": [
    "%load_ext watermark\n",
    "%watermark\n",
    "\n",
    "%load_ext autoreload\n",
    "%autoreload 2\n",
    "\n",
    "from IPython.display import display\n",
    "\n",
    "# import standard libs\n",
    "from pathlib import Path\n",
    "import sys\n",
    "import time\n",
    "import os\n",
    "from copy import copy\n",
    "\n",
    "# get project dir\n",
    "def local_get_relative_project_dir(project_repo_name=None, partial=True):\n",
    "    \"\"\"helper fn to get local project directory\"\"\"\n",
    "    current_working_directory = Path.cwd()\n",
    "    cwd_parts = current_working_directory.parts\n",
    "    if partial:\n",
    "        while project_repo_name not in cwd_parts[-1]:\n",
    "            current_working_directory = current_working_directory.parent\n",
    "            cwd_parts = current_working_directory.parts\n",
    "    else:\n",
    "        while cwd_parts[-1] != project_repo_name:\n",
    "            current_working_directory = current_working_directory.parent\n",
    "            cwd_parts = current_working_directory.parts\n",
    "    return current_working_directory\n",
    "\n",
    "\n",
    "PROJECT_REPO_NAME = \"mixture_model_trading_public\"\n",
    "project_dir = local_get_relative_project_dir(PROJECT_REPO_NAME)\n",
    "data_dir = project_dir / \"data\"\n",
    "script_dir = project_dir / \"scripts\"\n",
    "sys.path.append(script_dir.as_posix())\n",
    "\n",
    "# import python scientific stack\n",
    "import pandas as pd\n",
    "pd.options.display.float_format = '{:,.4f}'.format\n",
    "import pandas_datareader as pdr\n",
    "import numpy as np\n",
    "import sklearn.mixture as mix\n",
    "from sklearn.model_selection import TimeSeriesSplit\n",
    "import statsmodels.tsa.api as smt\n",
    "import statsmodels.api as sm\n",
    "import scipy.stats as stats\n",
    "from arch import arch_model\n",
    "from numba import jit\n",
    "import math\n",
    "\n",
    "# import visual tools\n",
    "from mpl_toolkits import mplot3d\n",
    "import matplotlib as mpl\n",
    "import matplotlib.pyplot as plt\n",
    "import matplotlib.gridspec as gridspec\n",
    "%matplotlib inline\n",
    "import plotnine as pn\n",
    "import mizani.breaks as mzb\n",
    "import mizani.formatters as mzf\n",
    "import seaborn as sns\n",
    "savefig_kwds=dict(dpi=300, bbox_inches='tight')\n",
    "\n",
    "# import util libs\n",
    "from tqdm import tqdm\n",
    "import warnings\n",
    "warnings.filterwarnings(\"ignore\")\n",
    "from utils import cprint\n",
    "\n",
    "# set globals\n",
    "blue, gold, green, red, purple, brown = sns.color_palette('colorblind', 6)\n",
    "RANDOM_STATE = 777\n",
    "\n",
    "print()\n",
    "%watermark -p pandas,pandas_datareader,numpy,sklearn,statsmodels,scipy,matplotlib,seaborn,plotnine"
   ]
  },
  {
   "cell_type": "code",
   "execution_count": 2,
   "metadata": {},
   "outputs": [],
   "source": [
    "sns_params = {\n",
    "    \"axes.grid\": True,\n",
    "    \"ytick.left\": True,\n",
    "    \"xtick.bottom\": True,\n",
    "    \"xtick.major.size\": 2,\n",
    "    \"ytick.major.size\": 2,\n",
    "    \"font.size\": 11,\n",
    "    \"font.weight\": \"medium\",\n",
    "    \"figure.figsize\": (10, 7),\n",
    "    \"font.family\": \"DejaVu Sans Mono\",  # \"Ubuntu Mono\",\n",
    "}\n",
    "\n",
    "sns.set(context=\"poster\", style=\"ticks\", rc=sns_params)\n",
    "savefig_kwds = dict(dpi=90, bbox_inches=\"tight\", frameon=True, format=\"png\")\n",
    "flatui = [\"#3498db\", \"#9b59b6\", \"#95a5a6\", \"#e74c3c\", \"#34495e\", \"#2ecc71\", \"#f4cae4\"]\n",
    "sns.set_palette(sns.color_palette(flatui, 7))"
   ]
  },
  {
   "cell_type": "markdown",
   "metadata": {
    "slideshow": {
     "slide_type": "slide"
    }
   },
   "source": [
    "## Study Design\n",
    "\n",
    "1. choose symbol to test (stats.guassian_kde and garch are only univariate)\n",
    "2. collect model functions\n",
    "3. decide on frequency and sample splits\n",
    "4. iterate over train, test data \n",
    "    - collect forecasts\n",
    "    - compute results for forecast period\n",
    "    - collect results for forecast period\n",
    "5. aggregate results\n",
    "6. evaluate results and plots"
   ]
  },
  {
   "cell_type": "markdown",
   "metadata": {
    "slideshow": {
     "slide_type": "subslide"
    }
   },
   "source": [
    "### Data"
   ]
  },
  {
   "cell_type": "code",
   "execution_count": 3,
   "metadata": {
    "ExecuteTime": {
     "end_time": "2019-01-04T22:05:39.465268Z",
     "start_time": "2019-01-04T22:05:39.201616Z"
    },
    "slideshow": {
     "slide_type": "subslide"
    }
   },
   "outputs": [
    {
     "name": "stdout",
     "output_type": "stream",
     "text": [
      "-------------------------------------------------------------------------------\n",
      "dataframe information\n",
      "-------------------------------------------------------------------------------\n",
      "               SPY     QQQ     TLT    GLD     EFA     EEM\n",
      "date                                                     \n",
      "2017-12-22 -0.0003 -0.0011  0.0014 0.0052  0.0026  0.0084\n",
      "2017-12-26 -0.0012 -0.0054  0.0030 0.0068 -0.0003 -0.0009\n",
      "2017-12-27  0.0005  0.0001  0.0129 0.0038  0.0019  0.0026\n",
      "2017-12-28  0.0021  0.0012 -0.0009 0.0051  0.0006  0.0068\n",
      "2017-12-29 -0.0038 -0.0062  0.0016 0.0065  0.0007  0.0047\n",
      "--------------------------------------------------\n",
      "<class 'pandas.core.frame.DataFrame'>\n",
      "DatetimeIndex: 3301 entries, 2004-11-19 to 2017-12-29\n",
      "Data columns (total 6 columns):\n",
      "SPY    3301 non-null float64\n",
      "QQQ    3301 non-null float64\n",
      "TLT    3301 non-null float64\n",
      "GLD    3301 non-null float64\n",
      "EFA    3301 non-null float64\n",
      "EEM    3301 non-null float64\n",
      "dtypes: float64(6)\n",
      "memory usage: 180.5 KB\n",
      "None\n",
      "-------------------------------------------------------------------------------\n",
      "\n"
     ]
    }
   ],
   "source": [
    "infp = Path(data_dir/'tiingo_etf_returns_ending_2017-12-31.parq')\n",
    "R = pd.read_parquet(infp)\n",
    "cprint(R)"
   ]
  },
  {
   "cell_type": "code",
   "execution_count": 4,
   "metadata": {
    "ExecuteTime": {
     "end_time": "2019-01-04T22:05:39.721310Z",
     "start_time": "2019-01-04T22:05:39.467193Z"
    },
    "slideshow": {
     "slide_type": "subslide"
    }
   },
   "outputs": [
    {
     "name": "stdout",
     "output_type": "stream",
     "text": [
      "-------------------------------------------------------------------------------\n",
      "dataframe information\n",
      "-------------------------------------------------------------------------------\n",
      "               SPY\n",
      "date              \n",
      "2017-12-22 -0.0003\n",
      "2017-12-26 -0.0012\n",
      "2017-12-27  0.0005\n",
      "2017-12-28  0.0021\n",
      "2017-12-29 -0.0038\n",
      "--------------------------------------------------\n",
      "<class 'pandas.core.frame.DataFrame'>\n",
      "DatetimeIndex: 3272 entries, 2005-01-03 to 2017-12-29\n",
      "Data columns (total 1 columns):\n",
      "SPY    3272 non-null float64\n",
      "dtypes: float64(1)\n",
      "memory usage: 51.1 KB\n",
      "None\n",
      "-------------------------------------------------------------------------------\n",
      "\n"
     ]
    }
   ],
   "source": [
    "test_symbol = 'SPY'\n",
    "data = R[test_symbol].to_frame().loc['2005':].copy()\n",
    "cprint(data)"
   ]
  },
  {
   "cell_type": "markdown",
   "metadata": {
    "slideshow": {
     "slide_type": "slide"
    }
   },
   "source": [
    "### Collect Model Functions"
   ]
  },
  {
   "cell_type": "code",
   "execution_count": 5,
   "metadata": {
    "ExecuteTime": {
     "end_time": "2019-01-04T22:05:39.975103Z",
     "start_time": "2019-01-04T22:05:39.723502Z"
    },
    "slideshow": {
     "slide_type": "subslide"
    }
   },
   "outputs": [],
   "source": [
    "def calc_quantile_var(data, alpha=0.05):\n",
    "    \"\"\"\n",
    "    compute var by quantile\n",
    "    \"\"\"\n",
    "    return data.quantile(alpha)"
   ]
  },
  {
   "cell_type": "markdown",
   "metadata": {
    "slideshow": {
     "slide_type": "slide"
    }
   },
   "source": [
    "#### Gaussian Mixture"
   ]
  },
  {
   "cell_type": "code",
   "execution_count": 6,
   "metadata": {
    "ExecuteTime": {
     "end_time": "2019-01-04T22:05:40.309769Z",
     "start_time": "2019-01-04T22:05:39.978101Z"
    },
    "slideshow": {
     "slide_type": "subslide"
    }
   },
   "outputs": [],
   "source": [
    "# gaussian mixture model, 2 components\n",
    "\n",
    "def gmm(data, n_components, max_iter=150, random_state=0, **kwds):\n",
    "    \"\"\"\n",
    "    gaussian mixture model by sklearn\n",
    "    \"\"\"\n",
    "    model = mix.GaussianMixture(n_components, max_iter=max_iter,\n",
    "                                random_state=random_state, **kwds)\n",
    "    model.fit(data)\n",
    "    return model"
   ]
  },
  {
   "cell_type": "code",
   "execution_count": 7,
   "metadata": {
    "ExecuteTime": {
     "end_time": "2019-01-04T22:05:40.309769Z",
     "start_time": "2019-01-04T22:05:39.978101Z"
    },
    "slideshow": {
     "slide_type": "subslide"
    }
   },
   "outputs": [],
   "source": [
    "def gmm_sample(data, n_components=2, max_iter=150, random_state=0,\n",
    "                     n_samples=1000, risky=True, **kwds):\n",
    "    \"\"\"\n",
    "    sample from the risky component\n",
    "    \"\"\"\n",
    "    model = gmm(data, n_components=n_components,\n",
    "                max_iter=max_iter, random_state=random_state, **kwds)\n",
    "    X_s, y_s = model.sample(n_samples)\n",
    "    df = pd.DataFrame(X_s, columns=data.columns).assign(component=y_s)\n",
    "    if not risky: \n",
    "        ser = pd.Series(X_s.ravel())\n",
    "        ser.name = 'gmm'\n",
    "        return ser\n",
    "    \n",
    "    risky = df.groupby('component').mean().mean(1).argmin()\n",
    "    ser = df.query('component==@risky').set_index('component').squeeze()\n",
    "    ser.name = 'gmm_risky'\n",
    "    return ser\n",
    "    "
   ]
  },
  {
   "cell_type": "code",
   "execution_count": 8,
   "metadata": {
    "ExecuteTime": {
     "end_time": "2019-01-04T22:05:40.309769Z",
     "start_time": "2019-01-04T22:05:39.978101Z"
    },
    "slideshow": {
     "slide_type": "subslide"
    }
   },
   "outputs": [
    {
     "data": {
      "text/plain": [
       "-0.01796428573783222"
      ]
     },
     "execution_count": 8,
     "metadata": {},
     "output_type": "execute_result"
    }
   ],
   "source": [
    "def calc_gmm_var(data, n_components=2, max_iter=150, random_state=0, \n",
    "                 n_samples=1000, risky=True, **kwds):\n",
    "    \"\"\"\n",
    "    compute quantile var for gmm risky component\n",
    "    \"\"\"\n",
    "    gmm_samples = gmm_sample(data, 2, risky=risky)\n",
    "    return calc_quantile_var(gmm_samples)\n",
    "\n",
    "gmm_var = calc_gmm_var(data, risky=False)\n",
    "gmm_var"
   ]
  },
  {
   "cell_type": "markdown",
   "metadata": {
    "slideshow": {
     "slide_type": "slide"
    }
   },
   "source": [
    "#### Garch"
   ]
  },
  {
   "cell_type": "code",
   "execution_count": 9,
   "metadata": {
    "ExecuteTime": {
     "end_time": "2019-01-04T22:05:41.094532Z",
     "start_time": "2019-01-04T22:05:40.311668Z"
    },
    "scrolled": true,
    "slideshow": {
     "slide_type": "subslide"
    }
   },
   "outputs": [
    {
     "name": "stdout",
     "output_type": "stream",
     "text": [
      "Iteration:      5,   Func. Count:     67,   Neg. LLF: -8197.75619100534\n",
      "Iteration:     10,   Func. Count:    144,   Neg. LLF: -2425.966037319834\n"
     ]
    },
    {
     "name": "stderr",
     "output_type": "stream",
     "text": [
      "/media/kingmaster/HDD/anaconda3/envs/py37/lib/python3.7/site-packages/arch/univariate/base.py:605: ConvergenceWarning: The optimizer returned code 8. The message is:\n",
      "Positive directional derivative for linesearch\n",
      "See scipy.optimize.fmin_slsqp for code meaning.\n",
      "\n",
      "  ConvergenceWarning)\n"
     ]
    },
    {
     "data": {
      "text/plain": [
       "-0.07974787795934174"
      ]
     },
     "execution_count": 9,
     "metadata": {},
     "output_type": "execute_result"
    }
   ],
   "source": [
    "# garch model 1,0,1\n",
    "def garch(data, p=1, o=0, q=1, update_freq=5, **kwds):\n",
    "    model = arch_model(data, 'Garch', p=p, o=o, q=q, **kwds)\n",
    "    res = model.fit(update_freq=update_freq, disp=False)\n",
    "    return res\n",
    "\n",
    "def garch_forecast_sim(data, p=1, o=0, q=1, update_freq=5,\n",
    "                       horizon=30, n_simulations=1000, **kwds):\n",
    "    np.random.seed(0)\n",
    "    garch_model = garch(data,p=p,o=o,q=q,update_freq=update_freq) \n",
    "    forecasts = garch_model.forecast(\n",
    "        horizon=horizon, method='simulation',simulations=n_simulations)\n",
    "    sim_ser = pd.Series(forecasts.simulations.values[-1,:,-1])\n",
    "    sim_ser.name = 'garch'    \n",
    "    return sim_ser\n",
    "\n",
    "def calc_garch_var(data, p=1, o=0, q=1, update_freq=5, horizon=30, n_simulations=1000, alpha=0.05, **kwds):\n",
    "    sim_ser = garch_forecast_sim(data, p=p, o=o, q=q, update_freq=update_freq,\n",
    "                                 horizon=horizon, n_simulations=n_simulations//horizon, **kwds)\n",
    "    var = calc_quantile_var(sim_ser, alpha=alpha)\n",
    "    return var\n",
    "\n",
    "calc_garch_var(data, n_simulations=10000)"
   ]
  },
  {
   "cell_type": "code",
   "execution_count": 10,
   "metadata": {
    "ExecuteTime": {
     "end_time": "2019-01-04T22:05:41.841041Z",
     "start_time": "2019-01-04T22:05:41.096160Z"
    },
    "slideshow": {
     "slide_type": "subslide"
    }
   },
   "outputs": [
    {
     "name": "stdout",
     "output_type": "stream",
     "text": [
      "Iteration:      5,   Func. Count:     67,   Neg. LLF: -8197.75619100534\n",
      "Iteration:     10,   Func. Count:    144,   Neg. LLF: -2425.966037319834\n"
     ]
    },
    {
     "name": "stderr",
     "output_type": "stream",
     "text": [
      "/media/kingmaster/HDD/anaconda3/envs/py37/lib/python3.7/site-packages/arch/univariate/base.py:605: ConvergenceWarning: The optimizer returned code 8. The message is:\n",
      "Positive directional derivative for linesearch\n",
      "See scipy.optimize.fmin_slsqp for code meaning.\n",
      "\n",
      "  ConvergenceWarning)\n"
     ]
    },
    {
     "data": {
      "text/plain": [
       "-0.08237194644880586"
      ]
     },
     "execution_count": 10,
     "metadata": {},
     "output_type": "execute_result"
    }
   ],
   "source": [
    "calc_garch_var(data, n_simulations=10000, dist='studentT')"
   ]
  },
  {
   "cell_type": "markdown",
   "metadata": {
    "ExecuteTime": {
     "end_time": "2019-01-03T03:46:07.623539Z",
     "start_time": "2019-01-03T03:46:07.157792Z"
    },
    "slideshow": {
     "slide_type": "slide"
    }
   },
   "source": [
    "#### Gaussian KDE"
   ]
  },
  {
   "cell_type": "code",
   "execution_count": 11,
   "metadata": {
    "ExecuteTime": {
     "end_time": "2019-01-04T22:05:42.083539Z",
     "start_time": "2019-01-04T22:05:41.842686Z"
    },
    "slideshow": {
     "slide_type": "subslide"
    }
   },
   "outputs": [
    {
     "data": {
      "text/plain": [
       "-0.021823126146631528"
      ]
     },
     "execution_count": 11,
     "metadata": {},
     "output_type": "execute_result"
    }
   ],
   "source": [
    "# guassian kde\n",
    "def gkde(data, **kwds):\n",
    "    if isinstance(data, pd.DataFrame): data=data.squeeze()\n",
    "    return stats.gaussian_kde(data, **kwds)\n",
    "\n",
    "def sample_gaussian_kde(data, n_samples=1000, **kwds):\n",
    "    np.random.seed(0)\n",
    "    model = gkde(data, **kwds)\n",
    "    samples = model.resample(n_samples).ravel()\n",
    "    ser = pd.Series(samples)\n",
    "    ser.name = 'gaussian_kde'\n",
    "    return ser\n",
    "\n",
    "def calc_gaussian_kde_var(data, n_samples=1000, alpha=0.05, **kwds):\n",
    "    samples = sample_gaussian_kde(data, n_samples=n_samples, **kwds)\n",
    "    return calc_quantile_var(samples, alpha=alpha)\n",
    "\n",
    "calc_gaussian_kde_var(data)"
   ]
  },
  {
   "cell_type": "markdown",
   "metadata": {
    "slideshow": {
     "slide_type": "slide"
    }
   },
   "source": [
    "#### Historical "
   ]
  },
  {
   "cell_type": "code",
   "execution_count": 12,
   "metadata": {
    "ExecuteTime": {
     "end_time": "2019-01-04T22:05:42.337384Z",
     "start_time": "2019-01-04T22:05:42.084833Z"
    },
    "slideshow": {
     "slide_type": "subslide"
    }
   },
   "outputs": [
    {
     "data": {
      "text/plain": [
       "-0.017334040349494213"
      ]
     },
     "execution_count": 12,
     "metadata": {},
     "output_type": "execute_result"
    }
   ],
   "source": [
    "# historical var\n",
    "\n",
    "def calc_historical_var(data, alpha=0.05): \n",
    "    if isinstance(data, pd.DataFrame): data=data.squeeze()\n",
    "    return calc_quantile_var(data, alpha=alpha)\n",
    "\n",
    "calc_historical_var(data)"
   ]
  },
  {
   "cell_type": "code",
   "execution_count": 13,
   "metadata": {
    "ExecuteTime": {
     "end_time": "2019-01-04T22:05:42.795579Z",
     "start_time": "2019-01-04T22:05:42.340815Z"
    },
    "slideshow": {
     "slide_type": "subslide"
    }
   },
   "outputs": [
    {
     "data": {
      "image/png": "[encoded data removed]",
      "text/plain": [
       "<Figure size 720x504 with 1 Axes>"
      ]
     },
     "metadata": {},
     "output_type": "display_data"
    }
   ],
   "source": [
    "def plot_hist_samples(samples, ax=None):\n",
    "    if not ax: ax = plt.gca()\n",
    "    \n",
    "    sns.distplot(samples, ax=ax, label=samples.name, \n",
    "                 hist=False, kde_kws={'shade':True})\n",
    "    ax.legend()\n",
    "    \n",
    "plot_hist_samples(sample_gaussian_kde(data))    "
   ]
  },
  {
   "cell_type": "code",
   "execution_count": 14,
   "metadata": {
    "ExecuteTime": {
     "end_time": "2019-01-04T22:06:01.710749Z",
     "start_time": "2019-01-04T22:05:58.477862Z"
    },
    "slideshow": {
     "slide_type": "subslide"
    }
   },
   "outputs": [
    {
     "name": "stdout",
     "output_type": "stream",
     "text": [
      "Iteration:      5,   Func. Count:     67,   Neg. LLF: -8197.75619100534\n",
      "Iteration:     10,   Func. Count:    144,   Neg. LLF: -2425.966037319834\n"
     ]
    },
    {
     "name": "stderr",
     "output_type": "stream",
     "text": [
      "/media/kingmaster/HDD/anaconda3/envs/py37/lib/python3.7/site-packages/arch/univariate/base.py:605: ConvergenceWarning: The optimizer returned code 8. The message is:\n",
      "Positive directional derivative for linesearch\n",
      "See scipy.optimize.fmin_slsqp for code meaning.\n",
      "\n",
      "  ConvergenceWarning)\n"
     ]
    },
    {
     "data": {
      "image/png": "[encoded data removed]",
      "text/plain": [
       "<Figure size 720x504 with 1 Axes>"
      ]
     },
     "metadata": {},
     "output_type": "display_data"
    }
   ],
   "source": [
    "gmm_samples = gmm_sample(data, 2)\n",
    "garch_samples = garch_forecast_sim(data)\n",
    "g_kde_samples = sample_gaussian_kde(data)\n",
    "hist_data = data.squeeze()\n",
    "\n",
    "sample_series = [gmm_samples, garch_samples, g_kde_samples, hist_data]\n",
    "f, ax = plt.subplots(figsize=(10,7))\n",
    "for s in sample_series:\n",
    "    plot_hist_samples(s, ax=ax)"
   ]
  },
  {
   "cell_type": "markdown",
   "metadata": {
    "slideshow": {
     "slide_type": "slide"
    }
   },
   "source": [
    "## Run VAR model"
   ]
  },
  {
   "cell_type": "code",
   "execution_count": 15,
   "metadata": {
    "ExecuteTime": {
     "end_time": "2019-01-04T22:06:34.885800Z",
     "start_time": "2019-01-04T22:06:34.302104Z"
    },
    "slideshow": {
     "slide_type": "subslide"
    }
   },
   "outputs": [
    {
     "data": {
      "text/plain": [
       "DatetimeIndex(['2005-01-31', '2005-02-28', '2005-03-31', '2005-04-30',\n",
       "               '2005-05-31', '2005-06-30', '2005-07-31', '2005-08-31',\n",
       "               '2005-09-30', '2005-10-31',\n",
       "               ...\n",
       "               '2017-03-31', '2017-04-30', '2017-05-31', '2017-06-30',\n",
       "               '2017-07-31', '2017-08-31', '2017-09-30', '2017-10-31',\n",
       "               '2017-11-30', '2017-12-31'],\n",
       "              dtype='datetime64[ns]', name='date', length=156, freq='M')"
      ]
     },
     "execution_count": 15,
     "metadata": {},
     "output_type": "execute_result"
    }
   ],
   "source": [
    "month_index = data.resample('M').mean().index\n",
    "month_index"
   ]
  },
  {
   "cell_type": "code",
   "execution_count": 16,
   "metadata": {
    "ExecuteTime": {
     "end_time": "2019-01-04T22:07:36.328112Z",
     "start_time": "2019-01-04T22:07:18.271498Z"
    },
    "scrolled": true,
    "slideshow": {
     "slide_type": "subslide"
    }
   },
   "outputs": [
    {
     "name": "stderr",
     "output_type": "stream",
     "text": [
      "/media/kingmaster/HDD/anaconda3/envs/py37/lib/python3.7/site-packages/arch/univariate/base.py:605: ConvergenceWarning: The optimizer returned code 8. The message is:\n",
      "Positive directional derivative for linesearch\n",
      "See scipy.optimize.fmin_slsqp for code meaning.\n",
      "\n",
      "  ConvergenceWarning)\n",
      "/media/kingmaster/HDD/anaconda3/envs/py37/lib/python3.7/site-packages/arch/univariate/base.py:605: ConvergenceWarning: The optimizer returned code 8. The message is:\n",
      "Positive directional derivative for linesearch\n",
      "See scipy.optimize.fmin_slsqp for code meaning.\n",
      "\n",
      "  ConvergenceWarning)\n",
      "/media/kingmaster/HDD/anaconda3/envs/py37/lib/python3.7/site-packages/arch/univariate/base.py:605: ConvergenceWarning: The optimizer returned code 8. The message is:\n",
      "Positive directional derivative for linesearch\n",
      "See scipy.optimize.fmin_slsqp for code meaning.\n",
      "\n",
      "  ConvergenceWarning)\n",
      "/media/kingmaster/HDD/anaconda3/envs/py37/lib/python3.7/site-packages/arch/univariate/base.py:605: ConvergenceWarning: The optimizer returned code 8. The message is:\n",
      "Positive directional derivative for linesearch\n",
      "See scipy.optimize.fmin_slsqp for code meaning.\n",
      "\n",
      "  ConvergenceWarning)\n"
     ]
    },
    {
     "name": "stdout",
     "output_type": "stream",
     "text": [
      "Iteration:      5,   Func. Count:     52,   Neg. LLF: -914.1458613565688\n",
      "Iteration:      5,   Func. Count:     52,   Neg. LLF: -914.1458613565688\n"
     ]
    },
    {
     "name": "stderr",
     "output_type": "stream",
     "text": [
      "/media/kingmaster/HDD/anaconda3/envs/py37/lib/python3.7/site-packages/arch/univariate/base.py:605: ConvergenceWarning: The optimizer returned code 8. The message is:\n",
      "Positive directional derivative for linesearch\n",
      "See scipy.optimize.fmin_slsqp for code meaning.\n",
      "\n",
      "  ConvergenceWarning)\n",
      "/media/kingmaster/HDD/anaconda3/envs/py37/lib/python3.7/site-packages/arch/univariate/base.py:605: ConvergenceWarning: The optimizer returned code 8. The message is:\n",
      "Positive directional derivative for linesearch\n",
      "See scipy.optimize.fmin_slsqp for code meaning.\n",
      "\n",
      "  ConvergenceWarning)\n",
      "/media/kingmaster/HDD/anaconda3/envs/py37/lib/python3.7/site-packages/arch/univariate/base.py:605: ConvergenceWarning: The optimizer returned code 8. The message is:\n",
      "Positive directional derivative for linesearch\n",
      "See scipy.optimize.fmin_slsqp for code meaning.\n",
      "\n",
      "  ConvergenceWarning)\n",
      "/media/kingmaster/HDD/anaconda3/envs/py37/lib/python3.7/site-packages/arch/univariate/base.py:605: ConvergenceWarning: The optimizer returned code 8. The message is:\n",
      "Positive directional derivative for linesearch\n",
      "See scipy.optimize.fmin_slsqp for code meaning.\n",
      "\n",
      "  ConvergenceWarning)\n"
     ]
    },
    {
     "name": "stdout",
     "output_type": "stream",
     "text": [
      "Iteration:      5,   Func. Count:     59,   Neg. LLF: -922.0173358859662\n",
      "Iteration:      5,   Func. Count:     59,   Neg. LLF: -922.0173358859662\n",
      "Iteration:      5,   Func. Count:     51,   Neg. LLF: -907.682660907031\n",
      "Iteration:      5,   Func. Count:     51,   Neg. LLF: -907.682660907031\n"
     ]
    },
    {
     "name": "stderr",
     "output_type": "stream",
     "text": [
      "/media/kingmaster/HDD/anaconda3/envs/py37/lib/python3.7/site-packages/arch/univariate/base.py:605: ConvergenceWarning: The optimizer returned code 8. The message is:\n",
      "Positive directional derivative for linesearch\n",
      "See scipy.optimize.fmin_slsqp for code meaning.\n",
      "\n",
      "  ConvergenceWarning)\n",
      "/media/kingmaster/HDD/anaconda3/envs/py37/lib/python3.7/site-packages/arch/univariate/base.py:605: ConvergenceWarning: The optimizer returned code 8. The message is:\n",
      "Positive directional derivative for linesearch\n",
      "See scipy.optimize.fmin_slsqp for code meaning.\n",
      "\n",
      "  ConvergenceWarning)\n"
     ]
    },
    {
     "name": "stdout",
     "output_type": "stream",
     "text": [
      "Iteration:      5,   Func. Count:     55,   Neg. LLF: -899.3005489074808\n",
      "Iteration:      5,   Func. Count:     55,   Neg. LLF: -899.3005489074808\n"
     ]
    },
    {
     "name": "stderr",
     "output_type": "stream",
     "text": [
      "/media/kingmaster/HDD/anaconda3/envs/py37/lib/python3.7/site-packages/arch/univariate/base.py:605: ConvergenceWarning: The optimizer returned code 8. The message is:\n",
      "Positive directional derivative for linesearch\n",
      "See scipy.optimize.fmin_slsqp for code meaning.\n",
      "\n",
      "  ConvergenceWarning)\n",
      "/media/kingmaster/HDD/anaconda3/envs/py37/lib/python3.7/site-packages/arch/univariate/base.py:605: ConvergenceWarning: The optimizer returned code 8. The message is:\n",
      "Positive directional derivative for linesearch\n",
      "See scipy.optimize.fmin_slsqp for code meaning.\n",
      "\n",
      "  ConvergenceWarning)\n",
      "/media/kingmaster/HDD/anaconda3/envs/py37/lib/python3.7/site-packages/arch/univariate/base.py:605: ConvergenceWarning: The optimizer returned code 8. The message is:\n",
      "Positive directional derivative for linesearch\n",
      "See scipy.optimize.fmin_slsqp for code meaning.\n",
      "\n",
      "  ConvergenceWarning)\n",
      "/media/kingmaster/HDD/anaconda3/envs/py37/lib/python3.7/site-packages/arch/univariate/base.py:605: ConvergenceWarning: The optimizer returned code 8. The message is:\n",
      "Positive directional derivative for linesearch\n",
      "See scipy.optimize.fmin_slsqp for code meaning.\n",
      "\n",
      "  ConvergenceWarning)\n",
      "/media/kingmaster/HDD/anaconda3/envs/py37/lib/python3.7/site-packages/arch/univariate/base.py:605: ConvergenceWarning: The optimizer returned code 8. The message is:\n",
      "Positive directional derivative for linesearch\n",
      "See scipy.optimize.fmin_slsqp for code meaning.\n",
      "\n",
      "  ConvergenceWarning)\n"
     ]
    },
    {
     "name": "stdout",
     "output_type": "stream",
     "text": [
      "Iteration:      5,   Func. Count:     64,   Neg. LLF: -936.9202516164103\n",
      "Iteration:      5,   Func. Count:     64,   Neg. LLF: -936.9202516164103\n"
     ]
    },
    {
     "name": "stderr",
     "output_type": "stream",
     "text": [
      "/media/kingmaster/HDD/anaconda3/envs/py37/lib/python3.7/site-packages/arch/univariate/base.py:605: ConvergenceWarning: The optimizer returned code 8. The message is:\n",
      "Positive directional derivative for linesearch\n",
      "See scipy.optimize.fmin_slsqp for code meaning.\n",
      "\n",
      "  ConvergenceWarning)\n",
      "/media/kingmaster/HDD/anaconda3/envs/py37/lib/python3.7/site-packages/arch/univariate/base.py:605: ConvergenceWarning: The optimizer returned code 8. The message is:\n",
      "Positive directional derivative for linesearch\n",
      "See scipy.optimize.fmin_slsqp for code meaning.\n",
      "\n",
      "  ConvergenceWarning)\n",
      "/media/kingmaster/HDD/anaconda3/envs/py37/lib/python3.7/site-packages/arch/univariate/base.py:605: ConvergenceWarning: The optimizer returned code 8. The message is:\n",
      "Positive directional derivative for linesearch\n",
      "See scipy.optimize.fmin_slsqp for code meaning.\n",
      "\n",
      "  ConvergenceWarning)\n",
      "/media/kingmaster/HDD/anaconda3/envs/py37/lib/python3.7/site-packages/arch/univariate/base.py:605: ConvergenceWarning: The optimizer returned code 8. The message is:\n",
      "Positive directional derivative for linesearch\n",
      "See scipy.optimize.fmin_slsqp for code meaning.\n",
      "\n",
      "  ConvergenceWarning)\n",
      "/media/kingmaster/HDD/anaconda3/envs/py37/lib/python3.7/site-packages/arch/univariate/base.py:605: ConvergenceWarning: The optimizer returned code 8. The message is:\n",
      "Positive directional derivative for linesearch\n",
      "See scipy.optimize.fmin_slsqp for code meaning.\n",
      "\n",
      "  ConvergenceWarning)\n"
     ]
    },
    {
     "name": "stdout",
     "output_type": "stream",
     "text": [
      "Iteration:      5,   Func. Count:     55,   Neg. LLF: -913.4880557705164\n",
      "Iteration:      5,   Func. Count:     55,   Neg. LLF: -913.4880557705164\n"
     ]
    },
    {
     "name": "stderr",
     "output_type": "stream",
     "text": [
      "/media/kingmaster/HDD/anaconda3/envs/py37/lib/python3.7/site-packages/arch/univariate/base.py:605: ConvergenceWarning: The optimizer returned code 8. The message is:\n",
      "Positive directional derivative for linesearch\n",
      "See scipy.optimize.fmin_slsqp for code meaning.\n",
      "\n",
      "  ConvergenceWarning)\n",
      "/media/kingmaster/HDD/anaconda3/envs/py37/lib/python3.7/site-packages/arch/univariate/base.py:605: ConvergenceWarning: The optimizer returned code 8. The message is:\n",
      "Positive directional derivative for linesearch\n",
      "See scipy.optimize.fmin_slsqp for code meaning.\n",
      "\n",
      "  ConvergenceWarning)\n",
      "/media/kingmaster/HDD/anaconda3/envs/py37/lib/python3.7/site-packages/arch/univariate/base.py:605: ConvergenceWarning: The optimizer returned code 8. The message is:\n",
      "Positive directional derivative for linesearch\n",
      "See scipy.optimize.fmin_slsqp for code meaning.\n",
      "\n",
      "  ConvergenceWarning)\n",
      "/media/kingmaster/HDD/anaconda3/envs/py37/lib/python3.7/site-packages/arch/univariate/base.py:605: ConvergenceWarning: The optimizer returned code 8. The message is:\n",
      "Positive directional derivative for linesearch\n",
      "See scipy.optimize.fmin_slsqp for code meaning.\n",
      "\n",
      "  ConvergenceWarning)\n",
      "/media/kingmaster/HDD/anaconda3/envs/py37/lib/python3.7/site-packages/arch/univariate/base.py:605: ConvergenceWarning: The optimizer returned code 8. The message is:\n",
      "Positive directional derivative for linesearch\n",
      "See scipy.optimize.fmin_slsqp for code meaning.\n",
      "\n",
      "  ConvergenceWarning)\n"
     ]
    },
    {
     "name": "stdout",
     "output_type": "stream",
     "text": [
      "Iteration:      5,   Func. Count:     59,   Neg. LLF: -833.1182054859316\n",
      "Iteration:     10,   Func. Count:    133,   Neg. LLF: -833.1198053195521\n",
      "Iteration:      5,   Func. Count:     59,   Neg. LLF: -833.1182054859316\n",
      "Iteration:     10,   Func. Count:    133,   Neg. LLF: -833.1198053195521\n",
      "Iteration:      5,   Func. Count:     55,   Neg. LLF: -814.6396201650816\n",
      "Iteration:     10,   Func. Count:    104,   Neg. LLF: -815.4197550173155\n",
      "Iteration:     15,   Func. Count:    140,   Neg. LLF: -815.9207961229683\n",
      "Iteration:      5,   Func. Count:     55,   Neg. LLF: -814.6396201650816\n",
      "Iteration:     10,   Func. Count:    104,   Neg. LLF: -815.4197550173155\n",
      "Iteration:     15,   Func. Count:    140,   Neg. LLF: -815.9207961229683\n"
     ]
    },
    {
     "name": "stderr",
     "output_type": "stream",
     "text": [
      "/media/kingmaster/HDD/anaconda3/envs/py37/lib/python3.7/site-packages/arch/univariate/base.py:605: ConvergenceWarning: The optimizer returned code 8. The message is:\n",
      "Positive directional derivative for linesearch\n",
      "See scipy.optimize.fmin_slsqp for code meaning.\n",
      "\n",
      "  ConvergenceWarning)\n",
      "/media/kingmaster/HDD/anaconda3/envs/py37/lib/python3.7/site-packages/arch/univariate/base.py:605: ConvergenceWarning: The optimizer returned code 8. The message is:\n",
      "Positive directional derivative for linesearch\n",
      "See scipy.optimize.fmin_slsqp for code meaning.\n",
      "\n",
      "  ConvergenceWarning)\n"
     ]
    },
    {
     "name": "stdout",
     "output_type": "stream",
     "text": [
      "Iteration:      5,   Func. Count:     57,   Neg. LLF: -793.3707660653877\n",
      "Iteration:     10,   Func. Count:    118,   Neg. LLF: -793.3744432450856\n",
      "Iteration:      5,   Func. Count:     57,   Neg. LLF: -793.3707660653877\n",
      "Iteration:     10,   Func. Count:    118,   Neg. LLF: -793.3744432450856\n"
     ]
    },
    {
     "name": "stderr",
     "output_type": "stream",
     "text": [
      "/media/kingmaster/HDD/anaconda3/envs/py37/lib/python3.7/site-packages/arch/univariate/base.py:605: ConvergenceWarning: The optimizer returned code 8. The message is:\n",
      "Positive directional derivative for linesearch\n",
      "See scipy.optimize.fmin_slsqp for code meaning.\n",
      "\n",
      "  ConvergenceWarning)\n"
     ]
    },
    {
     "name": "stdout",
     "output_type": "stream",
     "text": [
      "Iteration:      5,   Func. Count:     44,   Neg. LLF: -758.2367885314447\n",
      "Iteration:      5,   Func. Count:     44,   Neg. LLF: -758.2367885314447\n",
      "Iteration:      5,   Func. Count:     51,   Neg. LLF: -750.8978127813756\n",
      "Iteration:     10,   Func. Count:     89,   Neg. LLF: -750.9818174265409\n",
      "Iteration:      5,   Func. Count:     51,   Neg. LLF: -750.8978127813756\n",
      "Iteration:     10,   Func. Count:     89,   Neg. LLF: -750.9818174265409\n"
     ]
    },
    {
     "name": "stderr",
     "output_type": "stream",
     "text": [
      "/media/kingmaster/HDD/anaconda3/envs/py37/lib/python3.7/site-packages/arch/univariate/base.py:605: ConvergenceWarning: The optimizer returned code 8. The message is:\n",
      "Positive directional derivative for linesearch\n",
      "See scipy.optimize.fmin_slsqp for code meaning.\n",
      "\n",
      "  ConvergenceWarning)\n",
      "/media/kingmaster/HDD/anaconda3/envs/py37/lib/python3.7/site-packages/arch/univariate/base.py:605: ConvergenceWarning: The optimizer returned code 8. The message is:\n",
      "Positive directional derivative for linesearch\n",
      "See scipy.optimize.fmin_slsqp for code meaning.\n",
      "\n",
      "  ConvergenceWarning)\n",
      "/media/kingmaster/HDD/anaconda3/envs/py37/lib/python3.7/site-packages/arch/univariate/base.py:605: ConvergenceWarning: The optimizer returned code 8. The message is:\n",
      "Positive directional derivative for linesearch\n",
      "See scipy.optimize.fmin_slsqp for code meaning.\n",
      "\n",
      "  ConvergenceWarning)\n",
      "/media/kingmaster/HDD/anaconda3/envs/py37/lib/python3.7/site-packages/arch/univariate/base.py:605: ConvergenceWarning: The optimizer returned code 8. The message is:\n",
      "Positive directional derivative for linesearch\n",
      "See scipy.optimize.fmin_slsqp for code meaning.\n",
      "\n",
      "  ConvergenceWarning)\n",
      "/media/kingmaster/HDD/anaconda3/envs/py37/lib/python3.7/site-packages/arch/univariate/base.py:605: ConvergenceWarning: The optimizer returned code 8. The message is:\n",
      "Positive directional derivative for linesearch\n",
      "See scipy.optimize.fmin_slsqp for code meaning.\n",
      "\n",
      "  ConvergenceWarning)\n",
      "/media/kingmaster/HDD/anaconda3/envs/py37/lib/python3.7/site-packages/arch/univariate/base.py:605: ConvergenceWarning: The optimizer returned code 8. The message is:\n",
      "Positive directional derivative for linesearch\n",
      "See scipy.optimize.fmin_slsqp for code meaning.\n",
      "\n",
      "  ConvergenceWarning)\n"
     ]
    },
    {
     "name": "stdout",
     "output_type": "stream",
     "text": [
      "Iteration:      5,   Func. Count:     48,   Neg. LLF: -749.7379237573191\n",
      "Iteration:     10,   Func. Count:     93,   Neg. LLF: -749.8232139386756\n",
      "Iteration:      5,   Func. Count:     48,   Neg. LLF: -749.7379237573191\n",
      "Iteration:     10,   Func. Count:     93,   Neg. LLF: -749.8232139386756\n",
      "Iteration:      5,   Func. Count:     56,   Neg. LLF: -676.1545003678439\n",
      "Iteration:      5,   Func. Count:     56,   Neg. LLF: -676.1545003678439\n"
     ]
    },
    {
     "name": "stderr",
     "output_type": "stream",
     "text": [
      "/media/kingmaster/HDD/anaconda3/envs/py37/lib/python3.7/site-packages/arch/univariate/base.py:605: ConvergenceWarning: The optimizer returned code 8. The message is:\n",
      "Positive directional derivative for linesearch\n",
      "See scipy.optimize.fmin_slsqp for code meaning.\n",
      "\n",
      "  ConvergenceWarning)\n",
      "/media/kingmaster/HDD/anaconda3/envs/py37/lib/python3.7/site-packages/arch/univariate/base.py:605: ConvergenceWarning: The optimizer returned code 8. The message is:\n",
      "Positive directional derivative for linesearch\n",
      "See scipy.optimize.fmin_slsqp for code meaning.\n",
      "\n",
      "  ConvergenceWarning)\n",
      "/media/kingmaster/HDD/anaconda3/envs/py37/lib/python3.7/site-packages/arch/univariate/base.py:605: ConvergenceWarning: The optimizer returned code 8. The message is:\n",
      "Positive directional derivative for linesearch\n",
      "See scipy.optimize.fmin_slsqp for code meaning.\n",
      "\n",
      "  ConvergenceWarning)\n",
      "/media/kingmaster/HDD/anaconda3/envs/py37/lib/python3.7/site-packages/arch/univariate/base.py:605: ConvergenceWarning: The optimizer returned code 8. The message is:\n",
      "Positive directional derivative for linesearch\n",
      "See scipy.optimize.fmin_slsqp for code meaning.\n",
      "\n",
      "  ConvergenceWarning)\n"
     ]
    },
    {
     "name": "stdout",
     "output_type": "stream",
     "text": [
      "Iteration:      5,   Func. Count:     54,   Neg. LLF: -627.9949374612164\n",
      "Iteration:     10,   Func. Count:     88,   Neg. LLF: -629.6030825749457\n",
      "Iteration:      5,   Func. Count:     54,   Neg. LLF: -627.9949374612164\n",
      "Iteration:     10,   Func. Count:     88,   Neg. LLF: -629.6030825749457\n"
     ]
    },
    {
     "name": "stderr",
     "output_type": "stream",
     "text": [
      "/media/kingmaster/HDD/anaconda3/envs/py37/lib/python3.7/site-packages/arch/univariate/base.py:605: ConvergenceWarning: The optimizer returned code 8. The message is:\n",
      "Positive directional derivative for linesearch\n",
      "See scipy.optimize.fmin_slsqp for code meaning.\n",
      "\n",
      "  ConvergenceWarning)\n",
      "/media/kingmaster/HDD/anaconda3/envs/py37/lib/python3.7/site-packages/arch/univariate/base.py:605: ConvergenceWarning: The optimizer returned code 8. The message is:\n",
      "Positive directional derivative for linesearch\n",
      "See scipy.optimize.fmin_slsqp for code meaning.\n",
      "\n",
      "  ConvergenceWarning)\n",
      "/media/kingmaster/HDD/anaconda3/envs/py37/lib/python3.7/site-packages/arch/univariate/base.py:605: ConvergenceWarning: The optimizer returned code 8. The message is:\n",
      "Positive directional derivative for linesearch\n",
      "See scipy.optimize.fmin_slsqp for code meaning.\n",
      "\n",
      "  ConvergenceWarning)\n",
      "/media/kingmaster/HDD/anaconda3/envs/py37/lib/python3.7/site-packages/arch/univariate/base.py:605: ConvergenceWarning: The optimizer returned code 8. The message is:\n",
      "Positive directional derivative for linesearch\n",
      "See scipy.optimize.fmin_slsqp for code meaning.\n",
      "\n",
      "  ConvergenceWarning)\n",
      "/media/kingmaster/HDD/anaconda3/envs/py37/lib/python3.7/site-packages/arch/univariate/base.py:605: ConvergenceWarning: The optimizer returned code 8. The message is:\n",
      "Positive directional derivative for linesearch\n",
      "See scipy.optimize.fmin_slsqp for code meaning.\n",
      "\n",
      "  ConvergenceWarning)\n",
      "/media/kingmaster/HDD/anaconda3/envs/py37/lib/python3.7/site-packages/arch/univariate/base.py:605: ConvergenceWarning: The optimizer returned code 8. The message is:\n",
      "Positive directional derivative for linesearch\n",
      "See scipy.optimize.fmin_slsqp for code meaning.\n",
      "\n",
      "  ConvergenceWarning)\n",
      "/media/kingmaster/HDD/anaconda3/envs/py37/lib/python3.7/site-packages/arch/univariate/base.py:605: ConvergenceWarning: The optimizer returned code 8. The message is:\n",
      "Positive directional derivative for linesearch\n",
      "See scipy.optimize.fmin_slsqp for code meaning.\n",
      "\n",
      "  ConvergenceWarning)\n",
      "/media/kingmaster/HDD/anaconda3/envs/py37/lib/python3.7/site-packages/arch/univariate/base.py:605: ConvergenceWarning: The optimizer returned code 8. The message is:\n",
      "Positive directional derivative for linesearch\n",
      "See scipy.optimize.fmin_slsqp for code meaning.\n",
      "\n",
      "  ConvergenceWarning)\n",
      "/media/kingmaster/HDD/anaconda3/envs/py37/lib/python3.7/site-packages/arch/univariate/base.py:605: ConvergenceWarning: The optimizer returned code 8. The message is:\n",
      "Positive directional derivative for linesearch\n",
      "See scipy.optimize.fmin_slsqp for code meaning.\n",
      "\n",
      "  ConvergenceWarning)\n",
      "/media/kingmaster/HDD/anaconda3/envs/py37/lib/python3.7/site-packages/arch/univariate/base.py:605: ConvergenceWarning: The optimizer returned code 8. The message is:\n",
      "Positive directional derivative for linesearch\n",
      "See scipy.optimize.fmin_slsqp for code meaning.\n",
      "\n",
      "  ConvergenceWarning)\n",
      "/media/kingmaster/HDD/anaconda3/envs/py37/lib/python3.7/site-packages/arch/univariate/base.py:605: ConvergenceWarning: The optimizer returned code 8. The message is:\n",
      "Positive directional derivative for linesearch\n",
      "See scipy.optimize.fmin_slsqp for code meaning.\n",
      "\n",
      "  ConvergenceWarning)\n",
      "/media/kingmaster/HDD/anaconda3/envs/py37/lib/python3.7/site-packages/arch/univariate/base.py:605: ConvergenceWarning: The optimizer returned code 8. The message is:\n",
      "Positive directional derivative for linesearch\n",
      "See scipy.optimize.fmin_slsqp for code meaning.\n",
      "\n",
      "  ConvergenceWarning)\n",
      "/media/kingmaster/HDD/anaconda3/envs/py37/lib/python3.7/site-packages/arch/univariate/base.py:605: ConvergenceWarning: The optimizer returned code 8. The message is:\n",
      "Positive directional derivative for linesearch\n",
      "See scipy.optimize.fmin_slsqp for code meaning.\n",
      "\n",
      "  ConvergenceWarning)\n",
      "/media/kingmaster/HDD/anaconda3/envs/py37/lib/python3.7/site-packages/arch/univariate/base.py:605: ConvergenceWarning: The optimizer returned code 8. The message is:\n",
      "Positive directional derivative for linesearch\n",
      "See scipy.optimize.fmin_slsqp for code meaning.\n",
      "\n",
      "  ConvergenceWarning)\n",
      "/media/kingmaster/HDD/anaconda3/envs/py37/lib/python3.7/site-packages/arch/univariate/base.py:605: ConvergenceWarning: The optimizer returned code 8. The message is:\n",
      "Positive directional derivative for linesearch\n",
      "See scipy.optimize.fmin_slsqp for code meaning.\n",
      "\n",
      "  ConvergenceWarning)\n",
      "/media/kingmaster/HDD/anaconda3/envs/py37/lib/python3.7/site-packages/arch/univariate/base.py:605: ConvergenceWarning: The optimizer returned code 8. The message is:\n",
      "Positive directional derivative for linesearch\n",
      "See scipy.optimize.fmin_slsqp for code meaning.\n",
      "\n",
      "  ConvergenceWarning)\n",
      "/media/kingmaster/HDD/anaconda3/envs/py37/lib/python3.7/site-packages/arch/univariate/base.py:605: ConvergenceWarning: The optimizer returned code 8. The message is:\n",
      "Positive directional derivative for linesearch\n",
      "See scipy.optimize.fmin_slsqp for code meaning.\n",
      "\n",
      "  ConvergenceWarning)\n",
      "/media/kingmaster/HDD/anaconda3/envs/py37/lib/python3.7/site-packages/arch/univariate/base.py:605: ConvergenceWarning: The optimizer returned code 8. The message is:\n",
      "Positive directional derivative for linesearch\n",
      "See scipy.optimize.fmin_slsqp for code meaning.\n",
      "\n",
      "  ConvergenceWarning)\n",
      "/media/kingmaster/HDD/anaconda3/envs/py37/lib/python3.7/site-packages/arch/univariate/base.py:605: ConvergenceWarning: The optimizer returned code 8. The message is:\n",
      "Positive directional derivative for linesearch\n",
      "See scipy.optimize.fmin_slsqp for code meaning.\n",
      "\n",
      "  ConvergenceWarning)\n",
      "/media/kingmaster/HDD/anaconda3/envs/py37/lib/python3.7/site-packages/arch/univariate/base.py:605: ConvergenceWarning: The optimizer returned code 8. The message is:\n",
      "Positive directional derivative for linesearch\n",
      "See scipy.optimize.fmin_slsqp for code meaning.\n",
      "\n",
      "  ConvergenceWarning)\n",
      "/media/kingmaster/HDD/anaconda3/envs/py37/lib/python3.7/site-packages/arch/univariate/base.py:605: ConvergenceWarning: The optimizer returned code 8. The message is:\n",
      "Positive directional derivative for linesearch\n",
      "See scipy.optimize.fmin_slsqp for code meaning.\n",
      "\n",
      "  ConvergenceWarning)\n",
      "/media/kingmaster/HDD/anaconda3/envs/py37/lib/python3.7/site-packages/arch/univariate/base.py:605: ConvergenceWarning: The optimizer returned code 8. The message is:\n",
      "Positive directional derivative for linesearch\n",
      "See scipy.optimize.fmin_slsqp for code meaning.\n",
      "\n",
      "  ConvergenceWarning)\n",
      "/media/kingmaster/HDD/anaconda3/envs/py37/lib/python3.7/site-packages/arch/univariate/base.py:605: ConvergenceWarning: The optimizer returned code 8. The message is:\n",
      "Positive directional derivative for linesearch\n",
      "See scipy.optimize.fmin_slsqp for code meaning.\n",
      "\n",
      "  ConvergenceWarning)\n",
      "/media/kingmaster/HDD/anaconda3/envs/py37/lib/python3.7/site-packages/arch/univariate/base.py:605: ConvergenceWarning: The optimizer returned code 8. The message is:\n",
      "Positive directional derivative for linesearch\n",
      "See scipy.optimize.fmin_slsqp for code meaning.\n",
      "\n",
      "  ConvergenceWarning)\n"
     ]
    },
    {
     "name": "stdout",
     "output_type": "stream",
     "text": [
      "Iteration:      5,   Func. Count:     53,   Neg. LLF: -790.2437002479801\n",
      "Iteration:     10,   Func. Count:     95,   Neg. LLF: -790.7478068322041\n",
      "Iteration:      5,   Func. Count:     53,   Neg. LLF: -790.2437002479801\n",
      "Iteration:     10,   Func. Count:     95,   Neg. LLF: -790.7478068322041\n",
      "Iteration:      5,   Func. Count:     57,   Neg. LLF: -778.9314561682039\n",
      "Iteration:      5,   Func. Count:     57,   Neg. LLF: -778.9314561682039\n"
     ]
    },
    {
     "name": "stderr",
     "output_type": "stream",
     "text": [
      "/media/kingmaster/HDD/anaconda3/envs/py37/lib/python3.7/site-packages/arch/univariate/base.py:605: ConvergenceWarning: The optimizer returned code 8. The message is:\n",
      "Positive directional derivative for linesearch\n",
      "See scipy.optimize.fmin_slsqp for code meaning.\n",
      "\n",
      "  ConvergenceWarning)\n",
      "/media/kingmaster/HDD/anaconda3/envs/py37/lib/python3.7/site-packages/arch/univariate/base.py:605: ConvergenceWarning: The optimizer returned code 8. The message is:\n",
      "Positive directional derivative for linesearch\n",
      "See scipy.optimize.fmin_slsqp for code meaning.\n",
      "\n",
      "  ConvergenceWarning)\n"
     ]
    },
    {
     "name": "stdout",
     "output_type": "stream",
     "text": [
      "Iteration:      5,   Func. Count:     55,   Neg. LLF: -804.5536359656487\n",
      "Iteration:      5,   Func. Count:     55,   Neg. LLF: -804.5536359656487\n",
      "Iteration:      5,   Func. Count:     63,   Neg. LLF: -811.8340461730465\n",
      "Iteration:      5,   Func. Count:     63,   Neg. LLF: -811.8340461730465\n"
     ]
    },
    {
     "name": "stderr",
     "output_type": "stream",
     "text": [
      "/media/kingmaster/HDD/anaconda3/envs/py37/lib/python3.7/site-packages/arch/univariate/base.py:605: ConvergenceWarning: The optimizer returned code 8. The message is:\n",
      "Positive directional derivative for linesearch\n",
      "See scipy.optimize.fmin_slsqp for code meaning.\n",
      "\n",
      "  ConvergenceWarning)\n",
      "/media/kingmaster/HDD/anaconda3/envs/py37/lib/python3.7/site-packages/arch/univariate/base.py:605: ConvergenceWarning: The optimizer returned code 8. The message is:\n",
      "Positive directional derivative for linesearch\n",
      "See scipy.optimize.fmin_slsqp for code meaning.\n",
      "\n",
      "  ConvergenceWarning)\n",
      "/media/kingmaster/HDD/anaconda3/envs/py37/lib/python3.7/site-packages/arch/univariate/base.py:605: ConvergenceWarning: The optimizer returned code 8. The message is:\n",
      "Positive directional derivative for linesearch\n",
      "See scipy.optimize.fmin_slsqp for code meaning.\n",
      "\n",
      "  ConvergenceWarning)\n",
      "/media/kingmaster/HDD/anaconda3/envs/py37/lib/python3.7/site-packages/arch/univariate/base.py:605: ConvergenceWarning: The optimizer returned code 8. The message is:\n",
      "Positive directional derivative for linesearch\n",
      "See scipy.optimize.fmin_slsqp for code meaning.\n",
      "\n",
      "  ConvergenceWarning)\n"
     ]
    },
    {
     "name": "stdout",
     "output_type": "stream",
     "text": [
      "Iteration:      5,   Func. Count:     54,   Neg. LLF: -840.8495943156241\n",
      "Iteration:     10,   Func. Count:    115,   Neg. LLF: -840.8505242046907\n",
      "Iteration:      5,   Func. Count:     54,   Neg. LLF: -840.8495943156241\n",
      "Iteration:     10,   Func. Count:    115,   Neg. LLF: -840.8505242046907\n"
     ]
    },
    {
     "name": "stderr",
     "output_type": "stream",
     "text": [
      "/media/kingmaster/HDD/anaconda3/envs/py37/lib/python3.7/site-packages/arch/univariate/base.py:605: ConvergenceWarning: The optimizer returned code 8. The message is:\n",
      "Positive directional derivative for linesearch\n",
      "See scipy.optimize.fmin_slsqp for code meaning.\n",
      "\n",
      "  ConvergenceWarning)\n",
      "/media/kingmaster/HDD/anaconda3/envs/py37/lib/python3.7/site-packages/arch/univariate/base.py:605: ConvergenceWarning: The optimizer returned code 8. The message is:\n",
      "Positive directional derivative for linesearch\n",
      "See scipy.optimize.fmin_slsqp for code meaning.\n",
      "\n",
      "  ConvergenceWarning)\n",
      "/media/kingmaster/HDD/anaconda3/envs/py37/lib/python3.7/site-packages/arch/univariate/base.py:605: ConvergenceWarning: The optimizer returned code 8. The message is:\n",
      "Positive directional derivative for linesearch\n",
      "See scipy.optimize.fmin_slsqp for code meaning.\n",
      "\n",
      "  ConvergenceWarning)\n",
      "/media/kingmaster/HDD/anaconda3/envs/py37/lib/python3.7/site-packages/arch/univariate/base.py:605: ConvergenceWarning: The optimizer returned code 8. The message is:\n",
      "Positive directional derivative for linesearch\n",
      "See scipy.optimize.fmin_slsqp for code meaning.\n",
      "\n",
      "  ConvergenceWarning)\n",
      "/media/kingmaster/HDD/anaconda3/envs/py37/lib/python3.7/site-packages/arch/univariate/base.py:605: ConvergenceWarning: The optimizer returned code 8. The message is:\n",
      "Positive directional derivative for linesearch\n",
      "See scipy.optimize.fmin_slsqp for code meaning.\n",
      "\n",
      "  ConvergenceWarning)\n",
      "/media/kingmaster/HDD/anaconda3/envs/py37/lib/python3.7/site-packages/arch/univariate/base.py:605: ConvergenceWarning: The optimizer returned code 8. The message is:\n",
      "Positive directional derivative for linesearch\n",
      "See scipy.optimize.fmin_slsqp for code meaning.\n",
      "\n",
      "  ConvergenceWarning)\n",
      "/media/kingmaster/HDD/anaconda3/envs/py37/lib/python3.7/site-packages/arch/univariate/base.py:605: ConvergenceWarning: The optimizer returned code 8. The message is:\n",
      "Positive directional derivative for linesearch\n",
      "See scipy.optimize.fmin_slsqp for code meaning.\n",
      "\n",
      "  ConvergenceWarning)\n",
      "/media/kingmaster/HDD/anaconda3/envs/py37/lib/python3.7/site-packages/arch/univariate/base.py:605: ConvergenceWarning: The optimizer returned code 8. The message is:\n",
      "Positive directional derivative for linesearch\n",
      "See scipy.optimize.fmin_slsqp for code meaning.\n",
      "\n",
      "  ConvergenceWarning)\n",
      "/media/kingmaster/HDD/anaconda3/envs/py37/lib/python3.7/site-packages/arch/univariate/base.py:605: ConvergenceWarning: The optimizer returned code 8. The message is:\n",
      "Positive directional derivative for linesearch\n",
      "See scipy.optimize.fmin_slsqp for code meaning.\n",
      "\n",
      "  ConvergenceWarning)\n",
      "/media/kingmaster/HDD/anaconda3/envs/py37/lib/python3.7/site-packages/arch/univariate/base.py:605: ConvergenceWarning: The optimizer returned code 8. The message is:\n",
      "Positive directional derivative for linesearch\n",
      "See scipy.optimize.fmin_slsqp for code meaning.\n",
      "\n",
      "  ConvergenceWarning)\n",
      "/media/kingmaster/HDD/anaconda3/envs/py37/lib/python3.7/site-packages/arch/univariate/base.py:605: ConvergenceWarning: The optimizer returned code 8. The message is:\n",
      "Positive directional derivative for linesearch\n",
      "See scipy.optimize.fmin_slsqp for code meaning.\n",
      "\n",
      "  ConvergenceWarning)\n",
      "/media/kingmaster/HDD/anaconda3/envs/py37/lib/python3.7/site-packages/arch/univariate/base.py:605: ConvergenceWarning: The optimizer returned code 8. The message is:\n",
      "Positive directional derivative for linesearch\n",
      "See scipy.optimize.fmin_slsqp for code meaning.\n",
      "\n",
      "  ConvergenceWarning)\n",
      "/media/kingmaster/HDD/anaconda3/envs/py37/lib/python3.7/site-packages/arch/univariate/base.py:605: ConvergenceWarning: The optimizer returned code 8. The message is:\n",
      "Positive directional derivative for linesearch\n",
      "See scipy.optimize.fmin_slsqp for code meaning.\n",
      "\n",
      "  ConvergenceWarning)\n",
      "/media/kingmaster/HDD/anaconda3/envs/py37/lib/python3.7/site-packages/arch/univariate/base.py:605: ConvergenceWarning: The optimizer returned code 8. The message is:\n",
      "Positive directional derivative for linesearch\n",
      "See scipy.optimize.fmin_slsqp for code meaning.\n",
      "\n",
      "  ConvergenceWarning)\n"
     ]
    },
    {
     "name": "stdout",
     "output_type": "stream",
     "text": [
      "Iteration:      5,   Func. Count:     55,   Neg. LLF: -767.0054763718581\n",
      "Iteration:     10,   Func. Count:    118,   Neg. LLF: -767.006661590753\n",
      "Iteration:      5,   Func. Count:     55,   Neg. LLF: -767.0054763718581\n",
      "Iteration:     10,   Func. Count:    118,   Neg. LLF: -767.006661590753\n",
      "Iteration:      5,   Func. Count:     62,   Neg. LLF: -755.472454278616\n",
      "Iteration:      5,   Func. Count:     62,   Neg. LLF: -755.472454278616\n"
     ]
    },
    {
     "name": "stderr",
     "output_type": "stream",
     "text": [
      "/media/kingmaster/HDD/anaconda3/envs/py37/lib/python3.7/site-packages/arch/univariate/base.py:605: ConvergenceWarning: The optimizer returned code 8. The message is:\n",
      "Positive directional derivative for linesearch\n",
      "See scipy.optimize.fmin_slsqp for code meaning.\n",
      "\n",
      "  ConvergenceWarning)\n",
      "/media/kingmaster/HDD/anaconda3/envs/py37/lib/python3.7/site-packages/arch/univariate/base.py:605: ConvergenceWarning: The optimizer returned code 8. The message is:\n",
      "Positive directional derivative for linesearch\n",
      "See scipy.optimize.fmin_slsqp for code meaning.\n",
      "\n",
      "  ConvergenceWarning)\n",
      "/media/kingmaster/HDD/anaconda3/envs/py37/lib/python3.7/site-packages/arch/univariate/base.py:605: ConvergenceWarning: The optimizer returned code 8. The message is:\n",
      "Positive directional derivative for linesearch\n",
      "See scipy.optimize.fmin_slsqp for code meaning.\n",
      "\n",
      "  ConvergenceWarning)\n",
      "/media/kingmaster/HDD/anaconda3/envs/py37/lib/python3.7/site-packages/arch/univariate/base.py:605: ConvergenceWarning: The optimizer returned code 8. The message is:\n",
      "Positive directional derivative for linesearch\n",
      "See scipy.optimize.fmin_slsqp for code meaning.\n",
      "\n",
      "  ConvergenceWarning)\n",
      "/media/kingmaster/HDD/anaconda3/envs/py37/lib/python3.7/site-packages/arch/univariate/base.py:605: ConvergenceWarning: The optimizer returned code 8. The message is:\n",
      "Positive directional derivative for linesearch\n",
      "See scipy.optimize.fmin_slsqp for code meaning.\n",
      "\n",
      "  ConvergenceWarning)\n",
      "/media/kingmaster/HDD/anaconda3/envs/py37/lib/python3.7/site-packages/arch/univariate/base.py:605: ConvergenceWarning: The optimizer returned code 8. The message is:\n",
      "Positive directional derivative for linesearch\n",
      "See scipy.optimize.fmin_slsqp for code meaning.\n",
      "\n",
      "  ConvergenceWarning)\n"
     ]
    },
    {
     "name": "stdout",
     "output_type": "stream",
     "text": [
      "Iteration:      5,   Func. Count:     58,   Neg. LLF: -830.9413023485208\n",
      "Iteration:      5,   Func. Count:     58,   Neg. LLF: -830.9413023485208\n",
      "Iteration:      5,   Func. Count:     55,   Neg. LLF: -861.8987157985571\n"
     ]
    },
    {
     "name": "stderr",
     "output_type": "stream",
     "text": [
      "/media/kingmaster/HDD/anaconda3/envs/py37/lib/python3.7/site-packages/arch/univariate/base.py:605: ConvergenceWarning: The optimizer returned code 8. The message is:\n",
      "Positive directional derivative for linesearch\n",
      "See scipy.optimize.fmin_slsqp for code meaning.\n",
      "\n",
      "  ConvergenceWarning)\n",
      "/media/kingmaster/HDD/anaconda3/envs/py37/lib/python3.7/site-packages/arch/univariate/base.py:605: ConvergenceWarning: The optimizer returned code 8. The message is:\n",
      "Positive directional derivative for linesearch\n",
      "See scipy.optimize.fmin_slsqp for code meaning.\n",
      "\n",
      "  ConvergenceWarning)\n",
      "/media/kingmaster/HDD/anaconda3/envs/py37/lib/python3.7/site-packages/arch/univariate/base.py:605: ConvergenceWarning: The optimizer returned code 8. The message is:\n",
      "Positive directional derivative for linesearch\n",
      "See scipy.optimize.fmin_slsqp for code meaning.\n",
      "\n",
      "  ConvergenceWarning)\n",
      "/media/kingmaster/HDD/anaconda3/envs/py37/lib/python3.7/site-packages/arch/univariate/base.py:605: ConvergenceWarning: The optimizer returned code 8. The message is:\n",
      "Positive directional derivative for linesearch\n",
      "See scipy.optimize.fmin_slsqp for code meaning.\n",
      "\n",
      "  ConvergenceWarning)\n",
      "/media/kingmaster/HDD/anaconda3/envs/py37/lib/python3.7/site-packages/arch/univariate/base.py:605: ConvergenceWarning: The optimizer returned code 8. The message is:\n",
      "Positive directional derivative for linesearch\n",
      "See scipy.optimize.fmin_slsqp for code meaning.\n",
      "\n",
      "  ConvergenceWarning)\n"
     ]
    },
    {
     "name": "stdout",
     "output_type": "stream",
     "text": [
      "Iteration:      5,   Func. Count:     55,   Neg. LLF: -861.8987157985571\n"
     ]
    },
    {
     "name": "stderr",
     "output_type": "stream",
     "text": [
      "/media/kingmaster/HDD/anaconda3/envs/py37/lib/python3.7/site-packages/arch/univariate/base.py:605: ConvergenceWarning: The optimizer returned code 8. The message is:\n",
      "Positive directional derivative for linesearch\n",
      "See scipy.optimize.fmin_slsqp for code meaning.\n",
      "\n",
      "  ConvergenceWarning)\n",
      "/media/kingmaster/HDD/anaconda3/envs/py37/lib/python3.7/site-packages/arch/univariate/base.py:605: ConvergenceWarning: The optimizer returned code 8. The message is:\n",
      "Positive directional derivative for linesearch\n",
      "See scipy.optimize.fmin_slsqp for code meaning.\n",
      "\n",
      "  ConvergenceWarning)\n",
      "/media/kingmaster/HDD/anaconda3/envs/py37/lib/python3.7/site-packages/arch/univariate/base.py:605: ConvergenceWarning: The optimizer returned code 8. The message is:\n",
      "Positive directional derivative for linesearch\n",
      "See scipy.optimize.fmin_slsqp for code meaning.\n",
      "\n",
      "  ConvergenceWarning)\n",
      "/media/kingmaster/HDD/anaconda3/envs/py37/lib/python3.7/site-packages/arch/univariate/base.py:605: ConvergenceWarning: The optimizer returned code 8. The message is:\n",
      "Positive directional derivative for linesearch\n",
      "See scipy.optimize.fmin_slsqp for code meaning.\n",
      "\n",
      "  ConvergenceWarning)\n",
      "/media/kingmaster/HDD/anaconda3/envs/py37/lib/python3.7/site-packages/arch/univariate/base.py:605: ConvergenceWarning: The optimizer returned code 8. The message is:\n",
      "Positive directional derivative for linesearch\n",
      "See scipy.optimize.fmin_slsqp for code meaning.\n",
      "\n",
      "  ConvergenceWarning)\n"
     ]
    },
    {
     "name": "stdout",
     "output_type": "stream",
     "text": [
      "Iteration:      5,   Func. Count:     55,   Neg. LLF: -887.187628687253\n",
      "Iteration:      5,   Func. Count:     55,   Neg. LLF: -887.187628687253\n",
      "Iteration:      5,   Func. Count:     50,   Neg. LLF: -881.9928617631385\n",
      "Iteration:      5,   Func. Count:     50,   Neg. LLF: -881.9928617631385\n"
     ]
    },
    {
     "name": "stderr",
     "output_type": "stream",
     "text": [
      "/media/kingmaster/HDD/anaconda3/envs/py37/lib/python3.7/site-packages/arch/univariate/base.py:605: ConvergenceWarning: The optimizer returned code 8. The message is:\n",
      "Positive directional derivative for linesearch\n",
      "See scipy.optimize.fmin_slsqp for code meaning.\n",
      "\n",
      "  ConvergenceWarning)\n",
      "/media/kingmaster/HDD/anaconda3/envs/py37/lib/python3.7/site-packages/arch/univariate/base.py:605: ConvergenceWarning: The optimizer returned code 8. The message is:\n",
      "Positive directional derivative for linesearch\n",
      "See scipy.optimize.fmin_slsqp for code meaning.\n",
      "\n",
      "  ConvergenceWarning)\n"
     ]
    },
    {
     "name": "stdout",
     "output_type": "stream",
     "text": [
      "Iteration:      5,   Func. Count:     51,   Neg. LLF: -887.8007077393802\n",
      "Iteration:     10,   Func. Count:    100,   Neg. LLF: -887.8614579638557\n",
      "Iteration:      5,   Func. Count:     51,   Neg. LLF: -887.8007077393802\n",
      "Iteration:     10,   Func. Count:    100,   Neg. LLF: -887.8614579638557\n"
     ]
    },
    {
     "name": "stderr",
     "output_type": "stream",
     "text": [
      "/media/kingmaster/HDD/anaconda3/envs/py37/lib/python3.7/site-packages/arch/univariate/base.py:605: ConvergenceWarning: The optimizer returned code 8. The message is:\n",
      "Positive directional derivative for linesearch\n",
      "See scipy.optimize.fmin_slsqp for code meaning.\n",
      "\n",
      "  ConvergenceWarning)\n",
      "/media/kingmaster/HDD/anaconda3/envs/py37/lib/python3.7/site-packages/arch/univariate/base.py:605: ConvergenceWarning: The optimizer returned code 8. The message is:\n",
      "Positive directional derivative for linesearch\n",
      "See scipy.optimize.fmin_slsqp for code meaning.\n",
      "\n",
      "  ConvergenceWarning)\n",
      "/media/kingmaster/HDD/anaconda3/envs/py37/lib/python3.7/site-packages/arch/univariate/base.py:605: ConvergenceWarning: The optimizer returned code 8. The message is:\n",
      "Positive directional derivative for linesearch\n",
      "See scipy.optimize.fmin_slsqp for code meaning.\n",
      "\n",
      "  ConvergenceWarning)\n",
      "/media/kingmaster/HDD/anaconda3/envs/py37/lib/python3.7/site-packages/arch/univariate/base.py:605: ConvergenceWarning: The optimizer returned code 8. The message is:\n",
      "Positive directional derivative for linesearch\n",
      "See scipy.optimize.fmin_slsqp for code meaning.\n",
      "\n",
      "  ConvergenceWarning)\n",
      "/media/kingmaster/HDD/anaconda3/envs/py37/lib/python3.7/site-packages/arch/univariate/base.py:605: ConvergenceWarning: The optimizer returned code 8. The message is:\n",
      "Positive directional derivative for linesearch\n",
      "See scipy.optimize.fmin_slsqp for code meaning.\n",
      "\n",
      "  ConvergenceWarning)\n"
     ]
    },
    {
     "name": "stdout",
     "output_type": "stream",
     "text": [
      "Iteration:      5,   Func. Count:     54,   Neg. LLF: -901.665021904638\n",
      "Iteration:      5,   Func. Count:     54,   Neg. LLF: -901.665021904638\n",
      "Iteration:      5,   Func. Count:     55,   Neg. LLF: -892.6705770467918\n"
     ]
    },
    {
     "name": "stderr",
     "output_type": "stream",
     "text": [
      "/media/kingmaster/HDD/anaconda3/envs/py37/lib/python3.7/site-packages/arch/univariate/base.py:605: ConvergenceWarning: The optimizer returned code 8. The message is:\n",
      "Positive directional derivative for linesearch\n",
      "See scipy.optimize.fmin_slsqp for code meaning.\n",
      "\n",
      "  ConvergenceWarning)\n"
     ]
    },
    {
     "name": "stdout",
     "output_type": "stream",
     "text": [
      "Iteration:      5,   Func. Count:     55,   Neg. LLF: -892.6705770467918\n",
      "Iteration:      5,   Func. Count:     53,   Neg. LLF: -889.9512405746682\n"
     ]
    },
    {
     "name": "stderr",
     "output_type": "stream",
     "text": [
      "/media/kingmaster/HDD/anaconda3/envs/py37/lib/python3.7/site-packages/arch/univariate/base.py:605: ConvergenceWarning: The optimizer returned code 8. The message is:\n",
      "Positive directional derivative for linesearch\n",
      "See scipy.optimize.fmin_slsqp for code meaning.\n",
      "\n",
      "  ConvergenceWarning)\n",
      "/media/kingmaster/HDD/anaconda3/envs/py37/lib/python3.7/site-packages/arch/univariate/base.py:605: ConvergenceWarning: The optimizer returned code 8. The message is:\n",
      "Positive directional derivative for linesearch\n",
      "See scipy.optimize.fmin_slsqp for code meaning.\n",
      "\n",
      "  ConvergenceWarning)\n"
     ]
    },
    {
     "name": "stdout",
     "output_type": "stream",
     "text": [
      "Iteration:      5,   Func. Count:     53,   Neg. LLF: -889.9512405746682\n",
      "Iteration:      5,   Func. Count:     55,   Neg. LLF: -896.7984148524836\n",
      "Iteration:      5,   Func. Count:     55,   Neg. LLF: -896.7984148524836\n"
     ]
    },
    {
     "name": "stderr",
     "output_type": "stream",
     "text": [
      "/media/kingmaster/HDD/anaconda3/envs/py37/lib/python3.7/site-packages/arch/univariate/base.py:605: ConvergenceWarning: The optimizer returned code 8. The message is:\n",
      "Positive directional derivative for linesearch\n",
      "See scipy.optimize.fmin_slsqp for code meaning.\n",
      "\n",
      "  ConvergenceWarning)\n",
      "/media/kingmaster/HDD/anaconda3/envs/py37/lib/python3.7/site-packages/arch/univariate/base.py:605: ConvergenceWarning: The optimizer returned code 8. The message is:\n",
      "Positive directional derivative for linesearch\n",
      "See scipy.optimize.fmin_slsqp for code meaning.\n",
      "\n",
      "  ConvergenceWarning)\n"
     ]
    },
    {
     "name": "stdout",
     "output_type": "stream",
     "text": [
      "Iteration:      5,   Func. Count:     44,   Neg. LLF: -913.1477905709668\n",
      "Iteration:     10,   Func. Count:     80,   Neg. LLF: -913.248294888178\n",
      "Iteration:      5,   Func. Count:     44,   Neg. LLF: -913.1477905709668\n",
      "Iteration:     10,   Func. Count:     80,   Neg. LLF: -913.248294888178\n"
     ]
    },
    {
     "name": "stderr",
     "output_type": "stream",
     "text": [
      "/media/kingmaster/HDD/anaconda3/envs/py37/lib/python3.7/site-packages/arch/univariate/base.py:605: ConvergenceWarning: The optimizer returned code 8. The message is:\n",
      "Positive directional derivative for linesearch\n",
      "See scipy.optimize.fmin_slsqp for code meaning.\n",
      "\n",
      "  ConvergenceWarning)\n",
      "/media/kingmaster/HDD/anaconda3/envs/py37/lib/python3.7/site-packages/arch/univariate/base.py:605: ConvergenceWarning: The optimizer returned code 8. The message is:\n",
      "Positive directional derivative for linesearch\n",
      "See scipy.optimize.fmin_slsqp for code meaning.\n",
      "\n",
      "  ConvergenceWarning)\n",
      "/media/kingmaster/HDD/anaconda3/envs/py37/lib/python3.7/site-packages/arch/univariate/base.py:605: ConvergenceWarning: The optimizer returned code 8. The message is:\n",
      "Positive directional derivative for linesearch\n",
      "See scipy.optimize.fmin_slsqp for code meaning.\n",
      "\n",
      "  ConvergenceWarning)\n"
     ]
    },
    {
     "name": "stdout",
     "output_type": "stream",
     "text": [
      "Iteration:      5,   Func. Count:     55,   Neg. LLF: -908.3813038862212\n",
      "Iteration:      5,   Func. Count:     55,   Neg. LLF: -908.3813038862212\n",
      "Iteration:      5,   Func. Count:     58,   Neg. LLF: -915.4626298700796\n",
      "Iteration:      5,   Func. Count:     58,   Neg. LLF: -915.4626298700796\n"
     ]
    },
    {
     "name": "stderr",
     "output_type": "stream",
     "text": [
      "/media/kingmaster/HDD/anaconda3/envs/py37/lib/python3.7/site-packages/arch/univariate/base.py:605: ConvergenceWarning: The optimizer returned code 8. The message is:\n",
      "Positive directional derivative for linesearch\n",
      "See scipy.optimize.fmin_slsqp for code meaning.\n",
      "\n",
      "  ConvergenceWarning)\n"
     ]
    },
    {
     "name": "stdout",
     "output_type": "stream",
     "text": [
      "Iteration:      5,   Func. Count:     44,   Neg. LLF: -900.5025650035719\n",
      "Iteration:      5,   Func. Count:     44,   Neg. LLF: -900.5025650035719\n",
      "Iteration:      5,   Func. Count:     55,   Neg. LLF: -896.9079768816874\n",
      "Iteration:      5,   Func. Count:     55,   Neg. LLF: -896.9079768816874\n",
      "Iteration:      5,   Func. Count:     55,   Neg. LLF: -899.6649557570923\n",
      "Iteration:      5,   Func. Count:     55,   Neg. LLF: -899.6649557570923\n",
      "Iteration:      5,   Func. Count:     54,   Neg. LLF: -860.6361331978118\n",
      "Iteration:     10,   Func. Count:     98,   Neg. LLF: -861.060819097447\n",
      "Iteration:     15,   Func. Count:    130,   Neg. LLF: -861.3154751756184\n",
      "Iteration:      5,   Func. Count:     54,   Neg. LLF: -860.6361331978118\n",
      "Iteration:     10,   Func. Count:     98,   Neg. LLF: -861.060819097447\n",
      "Iteration:     15,   Func. Count:    130,   Neg. LLF: -861.3154751756184\n"
     ]
    },
    {
     "name": "stderr",
     "output_type": "stream",
     "text": [
      "/media/kingmaster/HDD/anaconda3/envs/py37/lib/python3.7/site-packages/arch/univariate/base.py:605: ConvergenceWarning: The optimizer returned code 8. The message is:\n",
      "Positive directional derivative for linesearch\n",
      "See scipy.optimize.fmin_slsqp for code meaning.\n",
      "\n",
      "  ConvergenceWarning)\n",
      "/media/kingmaster/HDD/anaconda3/envs/py37/lib/python3.7/site-packages/arch/univariate/base.py:605: ConvergenceWarning: The optimizer returned code 8. The message is:\n",
      "Positive directional derivative for linesearch\n",
      "See scipy.optimize.fmin_slsqp for code meaning.\n",
      "\n",
      "  ConvergenceWarning)\n"
     ]
    },
    {
     "name": "stdout",
     "output_type": "stream",
     "text": [
      "Iteration:      5,   Func. Count:     51,   Neg. LLF: -836.7047813939882\n",
      "Iteration:     10,   Func. Count:     88,   Neg. LLF: -837.2552688364929\n",
      "Iteration:      5,   Func. Count:     51,   Neg. LLF: -836.7047813939882\n",
      "Iteration:     10,   Func. Count:     88,   Neg. LLF: -837.2552688364929\n",
      "Iteration:      5,   Func. Count:     54,   Neg. LLF: -832.0911351396369\n",
      "Iteration:      5,   Func. Count:     54,   Neg. LLF: -832.0911351396369\n",
      "Iteration:      5,   Func. Count:     44,   Neg. LLF: -823.0158427169991\n",
      "Iteration:      5,   Func. Count:     44,   Neg. LLF: -823.0158427169991\n",
      "Iteration:      5,   Func. Count:     56,   Neg. LLF: -811.14423615947\n",
      "Iteration:      5,   Func. Count:     56,   Neg. LLF: -811.14423615947\n"
     ]
    },
    {
     "name": "stderr",
     "output_type": "stream",
     "text": [
      "/media/kingmaster/HDD/anaconda3/envs/py37/lib/python3.7/site-packages/arch/univariate/base.py:605: ConvergenceWarning: The optimizer returned code 8. The message is:\n",
      "Positive directional derivative for linesearch\n",
      "See scipy.optimize.fmin_slsqp for code meaning.\n",
      "\n",
      "  ConvergenceWarning)\n",
      "/media/kingmaster/HDD/anaconda3/envs/py37/lib/python3.7/site-packages/arch/univariate/base.py:605: ConvergenceWarning: The optimizer returned code 8. The message is:\n",
      "Positive directional derivative for linesearch\n",
      "See scipy.optimize.fmin_slsqp for code meaning.\n",
      "\n",
      "  ConvergenceWarning)\n",
      "/media/kingmaster/HDD/anaconda3/envs/py37/lib/python3.7/site-packages/arch/univariate/base.py:605: ConvergenceWarning: The optimizer returned code 8. The message is:\n",
      "Positive directional derivative for linesearch\n",
      "See scipy.optimize.fmin_slsqp for code meaning.\n",
      "\n",
      "  ConvergenceWarning)\n",
      "/media/kingmaster/HDD/anaconda3/envs/py37/lib/python3.7/site-packages/arch/univariate/base.py:605: ConvergenceWarning: The optimizer returned code 8. The message is:\n",
      "Positive directional derivative for linesearch\n",
      "See scipy.optimize.fmin_slsqp for code meaning.\n",
      "\n",
      "  ConvergenceWarning)\n"
     ]
    },
    {
     "name": "stdout",
     "output_type": "stream",
     "text": [
      "Iteration:      5,   Func. Count:     54,   Neg. LLF: -812.5705707796897\n",
      "Iteration:     10,   Func. Count:    102,   Neg. LLF: -812.8618713209967\n",
      "Iteration:     15,   Func. Count:    136,   Neg. LLF: -812.9931799942157\n",
      "Iteration:      5,   Func. Count:     54,   Neg. LLF: -812.5705707796897\n",
      "Iteration:     10,   Func. Count:    102,   Neg. LLF: -812.8618713209967\n",
      "Iteration:     15,   Func. Count:    136,   Neg. LLF: -812.9931799942157\n",
      "Iteration:      5,   Func. Count:     50,   Neg. LLF: -805.8690637031837\n",
      "Iteration:      5,   Func. Count:     50,   Neg. LLF: -805.8690637031837\n",
      "Iteration:      5,   Func. Count:     52,   Neg. LLF: -809.679026790252\n",
      "Iteration:      5,   Func. Count:     52,   Neg. LLF: -809.679026790252\n"
     ]
    },
    {
     "name": "stderr",
     "output_type": "stream",
     "text": [
      "/media/kingmaster/HDD/anaconda3/envs/py37/lib/python3.7/site-packages/arch/univariate/base.py:605: ConvergenceWarning: The optimizer returned code 8. The message is:\n",
      "Positive directional derivative for linesearch\n",
      "See scipy.optimize.fmin_slsqp for code meaning.\n",
      "\n",
      "  ConvergenceWarning)\n",
      "/media/kingmaster/HDD/anaconda3/envs/py37/lib/python3.7/site-packages/arch/univariate/base.py:605: ConvergenceWarning: The optimizer returned code 8. The message is:\n",
      "Positive directional derivative for linesearch\n",
      "See scipy.optimize.fmin_slsqp for code meaning.\n",
      "\n",
      "  ConvergenceWarning)\n"
     ]
    },
    {
     "name": "stdout",
     "output_type": "stream",
     "text": [
      "Iteration:      5,   Func. Count:     55,   Neg. LLF: -845.1940130112805\n",
      "Iteration:      5,   Func. Count:     55,   Neg. LLF: -845.1940130112805\n"
     ]
    },
    {
     "name": "stderr",
     "output_type": "stream",
     "text": [
      "/media/kingmaster/HDD/anaconda3/envs/py37/lib/python3.7/site-packages/arch/univariate/base.py:605: ConvergenceWarning: The optimizer returned code 8. The message is:\n",
      "Positive directional derivative for linesearch\n",
      "See scipy.optimize.fmin_slsqp for code meaning.\n",
      "\n",
      "  ConvergenceWarning)\n",
      "/media/kingmaster/HDD/anaconda3/envs/py37/lib/python3.7/site-packages/arch/univariate/base.py:605: ConvergenceWarning: The optimizer returned code 8. The message is:\n",
      "Positive directional derivative for linesearch\n",
      "See scipy.optimize.fmin_slsqp for code meaning.\n",
      "\n",
      "  ConvergenceWarning)\n",
      "/media/kingmaster/HDD/anaconda3/envs/py37/lib/python3.7/site-packages/arch/univariate/base.py:605: ConvergenceWarning: The optimizer returned code 8. The message is:\n",
      "Positive directional derivative for linesearch\n",
      "See scipy.optimize.fmin_slsqp for code meaning.\n",
      "\n",
      "  ConvergenceWarning)\n",
      "/media/kingmaster/HDD/anaconda3/envs/py37/lib/python3.7/site-packages/arch/univariate/base.py:605: ConvergenceWarning: The optimizer returned code 8. The message is:\n",
      "Positive directional derivative for linesearch\n",
      "See scipy.optimize.fmin_slsqp for code meaning.\n",
      "\n",
      "  ConvergenceWarning)\n"
     ]
    },
    {
     "name": "stdout",
     "output_type": "stream",
     "text": [
      "Iteration:      5,   Func. Count:     55,   Neg. LLF: -859.9070218073718\n",
      "Iteration:      5,   Func. Count:     55,   Neg. LLF: -859.9070218073718\n",
      "Iteration:      5,   Func. Count:     46,   Neg. LLF: -877.5884636173316\n",
      "Iteration:      5,   Func. Count:     46,   Neg. LLF: -877.5884636173316\n"
     ]
    },
    {
     "name": "stderr",
     "output_type": "stream",
     "text": [
      "/media/kingmaster/HDD/anaconda3/envs/py37/lib/python3.7/site-packages/arch/univariate/base.py:605: ConvergenceWarning: The optimizer returned code 8. The message is:\n",
      "Positive directional derivative for linesearch\n",
      "See scipy.optimize.fmin_slsqp for code meaning.\n",
      "\n",
      "  ConvergenceWarning)\n",
      "/media/kingmaster/HDD/anaconda3/envs/py37/lib/python3.7/site-packages/arch/univariate/base.py:605: ConvergenceWarning: The optimizer returned code 8. The message is:\n",
      "Positive directional derivative for linesearch\n",
      "See scipy.optimize.fmin_slsqp for code meaning.\n",
      "\n",
      "  ConvergenceWarning)\n",
      "/media/kingmaster/HDD/anaconda3/envs/py37/lib/python3.7/site-packages/arch/univariate/base.py:605: ConvergenceWarning: The optimizer returned code 8. The message is:\n",
      "Positive directional derivative for linesearch\n",
      "See scipy.optimize.fmin_slsqp for code meaning.\n",
      "\n",
      "  ConvergenceWarning)\n",
      "/media/kingmaster/HDD/anaconda3/envs/py37/lib/python3.7/site-packages/arch/univariate/base.py:605: ConvergenceWarning: The optimizer returned code 8. The message is:\n",
      "Positive directional derivative for linesearch\n",
      "See scipy.optimize.fmin_slsqp for code meaning.\n",
      "\n",
      "  ConvergenceWarning)\n",
      "/media/kingmaster/HDD/anaconda3/envs/py37/lib/python3.7/site-packages/arch/univariate/base.py:605: ConvergenceWarning: The optimizer returned code 8. The message is:\n",
      "Positive directional derivative for linesearch\n",
      "See scipy.optimize.fmin_slsqp for code meaning.\n",
      "\n",
      "  ConvergenceWarning)\n",
      "/media/kingmaster/HDD/anaconda3/envs/py37/lib/python3.7/site-packages/arch/univariate/base.py:605: ConvergenceWarning: The optimizer returned code 8. The message is:\n",
      "Positive directional derivative for linesearch\n",
      "See scipy.optimize.fmin_slsqp for code meaning.\n",
      "\n",
      "  ConvergenceWarning)\n",
      "/media/kingmaster/HDD/anaconda3/envs/py37/lib/python3.7/site-packages/arch/univariate/base.py:605: ConvergenceWarning: The optimizer returned code 8. The message is:\n",
      "Positive directional derivative for linesearch\n",
      "See scipy.optimize.fmin_slsqp for code meaning.\n",
      "\n",
      "  ConvergenceWarning)\n",
      "/media/kingmaster/HDD/anaconda3/envs/py37/lib/python3.7/site-packages/arch/univariate/base.py:605: ConvergenceWarning: The optimizer returned code 8. The message is:\n",
      "Positive directional derivative for linesearch\n",
      "See scipy.optimize.fmin_slsqp for code meaning.\n",
      "\n",
      "  ConvergenceWarning)\n",
      "/media/kingmaster/HDD/anaconda3/envs/py37/lib/python3.7/site-packages/arch/univariate/base.py:605: ConvergenceWarning: The optimizer returned code 8. The message is:\n",
      "Positive directional derivative for linesearch\n",
      "See scipy.optimize.fmin_slsqp for code meaning.\n",
      "\n",
      "  ConvergenceWarning)\n",
      "/media/kingmaster/HDD/anaconda3/envs/py37/lib/python3.7/site-packages/arch/univariate/base.py:605: ConvergenceWarning: The optimizer returned code 8. The message is:\n",
      "Positive directional derivative for linesearch\n",
      "See scipy.optimize.fmin_slsqp for code meaning.\n",
      "\n",
      "  ConvergenceWarning)\n",
      "/media/kingmaster/HDD/anaconda3/envs/py37/lib/python3.7/site-packages/arch/univariate/base.py:605: ConvergenceWarning: The optimizer returned code 8. The message is:\n",
      "Positive directional derivative for linesearch\n",
      "See scipy.optimize.fmin_slsqp for code meaning.\n",
      "\n",
      "  ConvergenceWarning)\n"
     ]
    },
    {
     "name": "stdout",
     "output_type": "stream",
     "text": [
      "Iteration:      5,   Func. Count:     59,   Neg. LLF: -971.1521388459545\n",
      "Iteration:      5,   Func. Count:     59,   Neg. LLF: -971.1521388459545\n"
     ]
    },
    {
     "name": "stderr",
     "output_type": "stream",
     "text": [
      "/media/kingmaster/HDD/anaconda3/envs/py37/lib/python3.7/site-packages/arch/univariate/base.py:605: ConvergenceWarning: The optimizer returned code 8. The message is:\n",
      "Positive directional derivative for linesearch\n",
      "See scipy.optimize.fmin_slsqp for code meaning.\n",
      "\n",
      "  ConvergenceWarning)\n",
      "/media/kingmaster/HDD/anaconda3/envs/py37/lib/python3.7/site-packages/arch/univariate/base.py:605: ConvergenceWarning: The optimizer returned code 8. The message is:\n",
      "Positive directional derivative for linesearch\n",
      "See scipy.optimize.fmin_slsqp for code meaning.\n",
      "\n",
      "  ConvergenceWarning)\n",
      "/media/kingmaster/HDD/anaconda3/envs/py37/lib/python3.7/site-packages/arch/univariate/base.py:605: ConvergenceWarning: The optimizer returned code 8. The message is:\n",
      "Positive directional derivative for linesearch\n",
      "See scipy.optimize.fmin_slsqp for code meaning.\n",
      "\n",
      "  ConvergenceWarning)\n"
     ]
    },
    {
     "ename": "IndexError",
     "evalue": "index 156 is out of bounds for axis 0 with size 156",
     "output_type": "error",
     "traceback": [
      "\u001b[0;31m---------------------------------------------------------------------------\u001b[0m",
      "\u001b[0;31mIndexError\u001b[0m                                Traceback (most recent call last)",
      "\u001b[0;32m<ipython-input-16-ebc877f9b157>\u001b[0m in \u001b[0;36m<module>\u001b[0;34m\u001b[0m\n\u001b[1;32m     22\u001b[0m \u001b[0;34m\u001b[0m\u001b[0m\n\u001b[1;32m     23\u001b[0m     \u001b[0mtrain\u001b[0m \u001b[0;34m=\u001b[0m \u001b[0mdata\u001b[0m\u001b[0;34m.\u001b[0m\u001b[0mloc\u001b[0m\u001b[0;34m[\u001b[0m\u001b[0;34m:\u001b[0m\u001b[0mmonth_end\u001b[0m\u001b[0;34m]\u001b[0m\u001b[0;34m.\u001b[0m\u001b[0miloc\u001b[0m\u001b[0;34m[\u001b[0m\u001b[0;34m-\u001b[0m\u001b[0mlookback\u001b[0m\u001b[0;34m:\u001b[0m\u001b[0;34m]\u001b[0m\u001b[0;34m\u001b[0m\u001b[0;34m\u001b[0m\u001b[0m\n\u001b[0;32m---> 24\u001b[0;31m     \u001b[0mtest\u001b[0m \u001b[0;34m=\u001b[0m \u001b[0mdata\u001b[0m\u001b[0;34m.\u001b[0m\u001b[0mloc\u001b[0m\u001b[0;34m[\u001b[0m\u001b[0mmonth_end\u001b[0m\u001b[0;34m+\u001b[0m\u001b[0mpd\u001b[0m\u001b[0;34m.\u001b[0m\u001b[0mTimedelta\u001b[0m\u001b[0;34m(\u001b[0m\u001b[0mdays\u001b[0m\u001b[0;34m=\u001b[0m\u001b[0;36m1\u001b[0m\u001b[0;34m)\u001b[0m\u001b[0;34m:\u001b[0m\u001b[0mmonth_index\u001b[0m\u001b[0;34m[\u001b[0m\u001b[0mi\u001b[0m\u001b[0;34m+\u001b[0m\u001b[0;36m1\u001b[0m\u001b[0;34m]\u001b[0m\u001b[0;34m]\u001b[0m\u001b[0;34m\u001b[0m\u001b[0;34m\u001b[0m\u001b[0m\n\u001b[0m\u001b[1;32m     25\u001b[0m \u001b[0;34m\u001b[0m\u001b[0m\n\u001b[1;32m     26\u001b[0m     \u001b[0;31m# calc vars\u001b[0m\u001b[0;34m\u001b[0m\u001b[0;34m\u001b[0m\u001b[0;34m\u001b[0m\u001b[0m\n",
      "\u001b[0;32m/media/kingmaster/HDD/anaconda3/envs/py37/lib/python3.7/site-packages/pandas/core/indexes/datetimes.py\u001b[0m in \u001b[0;36m__getitem__\u001b[0;34m(self, key)\u001b[0m\n\u001b[1;32m   1218\u001b[0m \u001b[0;34m\u001b[0m\u001b[0m\n\u001b[1;32m   1219\u001b[0m     \u001b[0;32mdef\u001b[0m \u001b[0m__getitem__\u001b[0m\u001b[0;34m(\u001b[0m\u001b[0mself\u001b[0m\u001b[0;34m,\u001b[0m \u001b[0mkey\u001b[0m\u001b[0;34m)\u001b[0m\u001b[0;34m:\u001b[0m\u001b[0;34m\u001b[0m\u001b[0;34m\u001b[0m\u001b[0m\n\u001b[0;32m-> 1220\u001b[0;31m         \u001b[0mresult\u001b[0m \u001b[0;34m=\u001b[0m \u001b[0mself\u001b[0m\u001b[0;34m.\u001b[0m\u001b[0m_data\u001b[0m\u001b[0;34m.\u001b[0m\u001b[0m__getitem__\u001b[0m\u001b[0;34m(\u001b[0m\u001b[0mkey\u001b[0m\u001b[0;34m)\u001b[0m\u001b[0;34m\u001b[0m\u001b[0;34m\u001b[0m\u001b[0m\n\u001b[0m\u001b[1;32m   1221\u001b[0m         \u001b[0;32mif\u001b[0m \u001b[0mis_scalar\u001b[0m\u001b[0;34m(\u001b[0m\u001b[0mresult\u001b[0m\u001b[0;34m)\u001b[0m\u001b[0;34m:\u001b[0m\u001b[0;34m\u001b[0m\u001b[0;34m\u001b[0m\u001b[0m\n\u001b[1;32m   1222\u001b[0m             \u001b[0;32mreturn\u001b[0m \u001b[0mresult\u001b[0m\u001b[0;34m\u001b[0m\u001b[0;34m\u001b[0m\u001b[0m\n",
      "\u001b[0;32m/media/kingmaster/HDD/anaconda3/envs/py37/lib/python3.7/site-packages/pandas/core/arrays/datetimelike.py\u001b[0m in \u001b[0;36m__getitem__\u001b[0;34m(self, key)\u001b[0m\n\u001b[1;32m    424\u001b[0m         \u001b[0mgetitem\u001b[0m \u001b[0;34m=\u001b[0m \u001b[0mself\u001b[0m\u001b[0;34m.\u001b[0m\u001b[0m_data\u001b[0m\u001b[0;34m.\u001b[0m\u001b[0m__getitem__\u001b[0m\u001b[0;34m\u001b[0m\u001b[0;34m\u001b[0m\u001b[0m\n\u001b[1;32m    425\u001b[0m         \u001b[0;32mif\u001b[0m \u001b[0mis_int\u001b[0m\u001b[0;34m:\u001b[0m\u001b[0;34m\u001b[0m\u001b[0;34m\u001b[0m\u001b[0m\n\u001b[0;32m--> 426\u001b[0;31m             \u001b[0mval\u001b[0m \u001b[0;34m=\u001b[0m \u001b[0mgetitem\u001b[0m\u001b[0;34m(\u001b[0m\u001b[0mkey\u001b[0m\u001b[0;34m)\u001b[0m\u001b[0;34m\u001b[0m\u001b[0;34m\u001b[0m\u001b[0m\n\u001b[0m\u001b[1;32m    427\u001b[0m             \u001b[0;32mreturn\u001b[0m \u001b[0mself\u001b[0m\u001b[0;34m.\u001b[0m\u001b[0m_box_func\u001b[0m\u001b[0;34m(\u001b[0m\u001b[0mval\u001b[0m\u001b[0;34m)\u001b[0m\u001b[0;34m\u001b[0m\u001b[0;34m\u001b[0m\u001b[0m\n\u001b[1;32m    428\u001b[0m \u001b[0;34m\u001b[0m\u001b[0m\n",
      "\u001b[0;31mIndexError\u001b[0m: index 156 is out of bounds for axis 0 with size 156"
     ]
    }
   ],
   "source": [
    "import warnings\n",
    "warnings.filterwarnings('ignore')\n",
    "warnings.simplefilter('ignore')\n",
    "\n",
    "np.random.seed(0)\n",
    "\n",
    "lookback = 252\n",
    "\n",
    "# stash model predictions\n",
    "keys = ['gmm', 'gmm_risky', 'garch_normal', 'garch_t', 'gkde', 'historical']\n",
    "predictions = dict.fromkeys(keys)\n",
    "\n",
    "for k in predictions.keys(): predictions[k] = []\n",
    "\n",
    "# stash actual minimum returns for next period\n",
    "min_month_returns = []\n",
    "\n",
    "### begin model code ###\n",
    "\n",
    "for i, month_end in enumerate(month_index):\n",
    "    if not data.loc[:month_end].shape[0] > lookback: continue\n",
    "    \n",
    "    train = data.loc[:month_end].iloc[-lookback:]\n",
    "    test = data.loc[month_end+pd.Timedelta(days=1):month_index[i+1]]\n",
    "    \n",
    "    # calc vars\n",
    "    gmm_var = calc_gmm_var(train, risky=False)\n",
    "    gmm_risky_var = calc_gmm_var(train, risky=True)\n",
    "    garch_norm_var = calc_garch_var(train, n_simulations=10000, dist='Normal')\n",
    "    garch_t_var = calc_garch_var(train, n_simulations=10000, dist='StudentT')\n",
    "    gkde_var = calc_gaussian_kde_var(train)\n",
    "    hist_var = calc_historical_var(train)    \n",
    "    \n",
    "    train_vars = [gmm_var, gmm_risky_var,\n",
    "                  garch_norm_var, garch_t_var,\n",
    "                  gkde_var, hist_var]\n",
    "    for k, var in zip(predictions.keys(), train_vars): predictions[k].append(var)\n",
    "        \n",
    "    min_month_returns.append(test.squeeze().min())\n",
    "    "
   ]
  },
  {
   "cell_type": "markdown",
   "metadata": {
    "slideshow": {
     "slide_type": "slide"
    }
   },
   "source": [
    "## Evaluate MAPE results\n",
    "\n",
    "In this experiment we will use [Mean Absolute Percentage Error (MAPE)](https://en.wikipedia.org/wiki/Mean_absolute_percentage_error) to evaluate the VAR prediction results. This is a relatively easy to interpret measure of the prediction error."
   ]
  },
  {
   "cell_type": "code",
   "execution_count": null,
   "metadata": {
    "ExecuteTime": {
     "end_time": "2019-01-04T22:07:50.613526Z",
     "start_time": "2019-01-04T22:07:50.270193Z"
    },
    "scrolled": true,
    "slideshow": {
     "slide_type": "subslide"
    }
   },
   "outputs": [],
   "source": [
    "# https://stackoverflow.com/questions/42250958/how-to-optimize-mape-code-in-python/42251083#42251083\n",
    "\n",
    "def mape_vectorized_v2(actual, predict): \n",
    "    mask = actual != 0\n",
    "    return (np.fabs(actual - predict)/actual)[mask].mean() \n",
    "\n",
    "model_errors = dict.fromkeys(keys)\n",
    "for k in model_errors.keys(): model_errors[k] = []\n",
    "    \n",
    "actual = np.asarray(min_month_returns)\n",
    "for k, predict in predictions.items():\n",
    "    model_errors[k].append(mape_vectorized_v2(actual, predict))\n",
    "\n",
    "error_df = (pd.DataFrame.\n",
    "            from_dict(model_errors)\n",
    "            .T\n",
    "            .squeeze()\n",
    "            .sort_values(ascending=False)*100.)\n",
    "error_df"
   ]
  },
  {
   "cell_type": "markdown",
   "metadata": {
    "slideshow": {
     "slide_type": "slide"
    }
   },
   "source": [
    "### Test model for other symbols"
   ]
  },
  {
   "cell_type": "code",
   "execution_count": null,
   "metadata": {
    "ExecuteTime": {
     "end_time": "2019-01-04T22:08:05.911811Z",
     "start_time": "2019-01-04T22:08:05.599683Z"
    },
    "slideshow": {
     "slide_type": "subslide"
    }
   },
   "outputs": [],
   "source": [
    "def run_model(return_dataframe, symbol, keys, lookback=252):\n",
    "    \n",
    "    # get data\n",
    "    data = return_dataframe[symbol].to_frame().loc['2005':].copy()    \n",
    "    \n",
    "    np.random.seed(0)\n",
    "\n",
    "    # stash model predictions\n",
    "    predictions = dict.fromkeys(keys)\n",
    "    for k in predictions.keys(): predictions[k] = []\n",
    "\n",
    "    # stash actual minimum returns for next period\n",
    "    min_month_returns = []\n",
    "\n",
    "    ### begin model code ###\n",
    "\n",
    "    for i, month_end in enumerate(month_index):\n",
    "        try:\n",
    "            if not data.loc[:month_end].shape[0] > lookback: continue\n",
    "\n",
    "            train = data.loc[:month_end].iloc[-lookback:]\n",
    "            test = data.loc[month_end+pd.Timedelta(days=1):month_index[i+1]]\n",
    "\n",
    "            # calc vars\n",
    "            gmm_var = calc_gmm_var(train, risky=False)\n",
    "            gmm_risky_var = calc_gmm_var(train, risky=True)\n",
    "            garch_norm_var = calc_garch_var(train, n_simulations=10000, dist='Normal')\n",
    "            garch_t_var = calc_garch_var(train, n_simulations=10000, dist='StudentT')\n",
    "            gkde_var = calc_gaussian_kde_var(train)\n",
    "            hist_var = calc_historical_var(train)    \n",
    "\n",
    "            train_vars = [gmm_var, gmm_risky_var,\n",
    "                          garch_norm_var, garch_t_var,\n",
    "                          gkde_var, hist_var]\n",
    "            for k, var in zip(predictions.keys(), train_vars): predictions[k].append(var)\n",
    "\n",
    "            min_month_returns.append(test.squeeze().min())\n",
    "        except Exception as e:\n",
    "            print(e)\n",
    "        \n",
    "    return min_month_returns, predictions\n",
    "\n",
    "\n",
    "\n",
    "\n",
    "# end"
   ]
  },
  {
   "cell_type": "code",
   "execution_count": null,
   "metadata": {
    "ExecuteTime": {
     "end_time": "2019-01-04T22:08:05.911811Z",
     "start_time": "2019-01-04T22:08:05.599683Z"
    },
    "scrolled": true,
    "slideshow": {
     "slide_type": "subslide"
    }
   },
   "outputs": [],
   "source": [
    "def calc_model_mape(actual, predictions, symbol, keys):\n",
    "    # https://stackoverflow.com/questions/42250958/how-to-optimize-mape-code-in-python/42251083#42251083\n",
    "\n",
    "    def mape_vectorized_v2(actual, predict): \n",
    "        mask = actual != 0\n",
    "        return (np.fabs(actual - predict)/actual)[mask].mean() \n",
    "\n",
    "    model_errors = dict.fromkeys(keys)\n",
    "    for k in model_errors.keys(): model_errors[k] = []\n",
    "\n",
    "    actual = np.asarray(min_month_returns)\n",
    "    for k, predict in predictions.items():\n",
    "        model_errors[k].append(mape_vectorized_v2(actual, predict))\n",
    "\n",
    "    error_df = (pd.DataFrame.\n",
    "                from_dict(model_errors)\n",
    "                .T\n",
    "                .squeeze()\n",
    "                .sort_values(ascending=False)*100.)\n",
    "    error_df.name = symbol\n",
    "    return error_df    "
   ]
  },
  {
   "cell_type": "code",
   "execution_count": null,
   "metadata": {
    "ExecuteTime": {
     "end_time": "2019-01-04T22:09:53.180967Z",
     "start_time": "2019-01-04T22:08:07.331490Z"
    },
    "scrolled": true,
    "slideshow": {
     "slide_type": "subslide"
    }
   },
   "outputs": [],
   "source": [
    "errors = []\n",
    "for symbol in R.columns:\n",
    "    try:\n",
    "        actual, predictions = run_model(R, symbol, keys)\n",
    "        tmp_errors = calc_model_mape(actual, predictions, symbol, keys)\n",
    "        errors.append(tmp_errors)\n",
    "    except Exception as e:\n",
    "        print(e)"
   ]
  },
  {
   "cell_type": "code",
   "execution_count": null,
   "metadata": {
    "ExecuteTime": {
     "end_time": "2019-01-04T22:09:54.006814Z",
     "start_time": "2019-01-04T22:09:53.718815Z"
    },
    "scrolled": true,
    "slideshow": {
     "slide_type": "subslide"
    }
   },
   "outputs": [],
   "source": [
    "error_df = pd.concat(errors,axis=1)    \n",
    "display(error_df)"
   ]
  },
  {
   "cell_type": "code",
   "execution_count": null,
   "metadata": {
    "ExecuteTime": {
     "end_time": "2019-01-04T22:13:15.787712Z",
     "start_time": "2019-01-04T22:13:15.527244Z"
    },
    "slideshow": {
     "slide_type": "subslide"
    }
   },
   "outputs": [],
   "source": [
    "error_df.mean(1).sort_values()[::-1]"
   ]
  },
  {
   "cell_type": "code",
   "execution_count": null,
   "metadata": {
    "ExecuteTime": {
     "end_time": "2019-01-04T22:14:52.381958Z",
     "start_time": "2019-01-04T22:14:52.110055Z"
    },
    "slideshow": {
     "slide_type": "subslide"
    }
   },
   "outputs": [],
   "source": [
    "error_df.T.describe().T.sort_values('mean')[::-1]"
   ]
  },
  {
   "cell_type": "markdown",
   "metadata": {
    "slideshow": {
     "slide_type": "slide"
    }
   },
   "source": [
    "## Conclusions"
   ]
  },
  {
   "cell_type": "markdown",
   "metadata": {
    "slideshow": {
     "slide_type": "fragment"
    }
   },
   "source": [
    "Surprisingly the `historical` model was the top ranked in terms of VAR accuracy when looking at the average `mape` score, followed by the full `gmm` model (using 2 components). As expected on average the `gmm_risky` is the worst performer due to the VAR being calculated using only the most volatile component."
   ]
  },
  {
   "cell_type": "markdown",
   "metadata": {
    "slideshow": {
     "slide_type": "subslide"
    }
   },
   "source": [
    "## Resources and Citations\n",
    "\n",
    "1. https://stackoverflow.com/questions/42250958/how-to-optimize-mape-code-in-python/42251083#42251083\n",
    "2. http://www.bsic.it/wp-content/uploads/2017/03/VaR-with-Python.pdf\n",
    "3. http://www.turingfinance.com/computational-investing-with-python-week-one/\n",
    "4. https://github.com/bashtage/arch/blob/master/examples/univariate_volatility_forecasting.ipynb\n",
    "5. https://en.wikipedia.org/wiki/Mean_absolute_percentage_error"
   ]
  }
 ],
 "metadata": {
  "celltoolbar": "Slideshow",
  "kernelspec": {
   "display_name": "Python [conda env:py37]",
   "language": "python",
   "name": "conda-env-py37-py"
  },
  "language_info": {
   "codemirror_mode": {
    "name": "ipython",
    "version": 3
   },
   "file_extension": ".py",
   "mimetype": "text/x-python",
   "name": "python",
   "nbconvert_exporter": "python",
   "pygments_lexer": "ipython3",
   "version": "3.7.5"
  },
  "toc": {
   "base_numbering": 1,
   "nav_menu": {},
   "number_sections": true,
   "sideBar": true,
   "skip_h1_title": true,
   "title_cell": "Table of Contents",
   "title_sidebar": "Contents",
   "toc_cell": true,
   "toc_position": {
    "height": "calc(100% - 180px)",
    "left": "10px",
    "top": "150px",
    "width": "315px"
   },
   "toc_section_display": true,
   "toc_window_display": true
  },
  "varInspector": {
   "cols": {
    "lenName": 16,
    "lenType": 16,
    "lenVar": 40
   },
   "kernels_config": {
    "python": {
     "delete_cmd_postfix": "",
     "delete_cmd_prefix": "del ",
     "library": "var_list.py",
     "varRefreshCmd": "print(var_dic_list())"
    },
    "r": {
     "delete_cmd_postfix": ") ",
     "delete_cmd_prefix": "rm(",
     "library": "var_list.r",
     "varRefreshCmd": "cat(var_dic_list()) "
    }
   },
   "types_to_exclude": [
    "module",
    "function",
    "builtin_function_or_method",
    "instance",
    "_Feature"
   ],
   "window_display": false
  }
 },
 "nbformat": 4,
 "nbformat_minor": 2
}
